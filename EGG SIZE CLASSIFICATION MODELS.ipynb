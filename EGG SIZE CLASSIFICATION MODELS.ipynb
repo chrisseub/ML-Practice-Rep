{
  "nbformat": 4,
  "nbformat_minor": 0,
  "metadata": {
    "colab": {
      "provenance": [],
      "name": "EGG SIZE PREDICTION.ipynb",
      "authorship_tag": "ABX9TyO/jzO/lAC2qyIQ00xUlJ+n",
      "include_colab_link": true
    },
    "kernelspec": {
      "name": "python3",
      "display_name": "Python 3"
    },
    "language_info": {
      "name": "python"
    }
  },
  "cells": [
    {
      "cell_type": "markdown",
      "metadata": {
        "id": "view-in-github",
        "colab_type": "text"
      },
      "source": [
        "<a href=\"https://colab.research.google.com/github/chrisseub/ML-Practice-Rep/blob/main/EGG%20SIZE%20CLASSIFICATION%20MODELS.ipynb\" target=\"_parent\"><img src=\"https://colab.research.google.com/assets/colab-badge.svg\" alt=\"Open In Colab\"/></a>"
      ]
    },
    {
      "cell_type": "markdown",
      "source": [
        "IMPORT THE LIBRARIES"
      ],
      "metadata": {
        "id": "MgqSGyd7f1yT"
      }
    },
    {
      "cell_type": "code",
      "execution_count": 1,
      "metadata": {
        "id": "jCOJvHWYfr_y"
      },
      "outputs": [],
      "source": [
        "import pandas as pd\n",
        "import numpy as np\n",
        "from sklearn.model_selection import train_test_split\n",
        "from sklearn.linear_model import LogisticRegression\n",
        "from sklearn.metrics import accuracy_score\n",
        "from sklearn.impute import SimpleImputer\n",
        "from sklearn.preprocessing import StandardScaler"
      ]
    },
    {
      "cell_type": "markdown",
      "source": [
        "  IMPORT THE EGG QUALITY DATA"
      ],
      "metadata": {
        "id": "9Bwb_vDUgB6s"
      }
    },
    {
      "cell_type": "code",
      "source": [
        "Egg_Traits = pd.read_excel('/content/main.xls')\n",
        "\n",
        "#VIEWING THE DATA\n",
        "print(Egg_Traits.head()) # Print the first few rows\n",
        "Egg_Traits.shape\n"
      ],
      "metadata": {
        "colab": {
          "base_uri": "https://localhost:8080/"
        },
        "id": "0OhgFFAFgIyM",
        "outputId": "6f7b21a8-1251-429f-8d22-5ecbd21f9631"
      },
      "execution_count": 2,
      "outputs": [
        {
          "output_type": "stream",
          "name": "stdout",
          "text": [
            "  STRAIN          AGE  EGG_WEIGHT   EGG_LENGTH  EGG_WIDTH YOLK_HEIGHT  \\\n",
            "0  BROWN  EARLY LAYER         52.5        5.75        4.0         1.8   \n",
            "1  BROWN  EARLY LAYER         62.6        5.70        4.3           2   \n",
            "2  BROWN  EARLY LAYER         61.0        5.50        4.3         1.8   \n",
            "3  BROWN  EARLY LAYER         64.1        5.70        4.4         1.9   \n",
            "4  BROWN  EARLY LAYER         53.9        5.60        4.0         2.2   \n",
            "\n",
            "  YOLK_WIDTH ALB_HEIGHT  YOLK _ALB_WEIGHT   SHELL_WEIGTH  SHELL_THICKNESS  \\\n",
            "0        4.1        0.7               48.0           5.9             0.27   \n",
            "1        4.2        0.8               54.8           7.7             0.35   \n",
            "2          4          1               53.5           7.5             0.35   \n",
            "3          4          1               55.7           7.4             0.29   \n",
            "4          4       0.65               46.0           7.0             0.39   \n",
            "\n",
            "   Haugh Unit  Shell surface area  Yolk Index  Shape Index Outcome  \n",
            "0   84.390042           63.770823   43.902439    69.565217   Small  \n",
            "1   84.416908           71.623566   47.619048    75.438596   Large  \n",
            "2   85.517341           70.410037   45.000000    78.181818   Large  \n",
            "3   85.373317           72.751706   47.500000    77.192982   Large  \n",
            "4   84.054650           64.888161   55.000000    71.428571   Small  \n"
          ]
        },
        {
          "output_type": "execute_result",
          "data": {
            "text/plain": [
              "(300, 16)"
            ]
          },
          "metadata": {},
          "execution_count": 2
        }
      ]
    },
    {
      "cell_type": "markdown",
      "source": [
        "ANALYSING THE DATA"
      ],
      "metadata": {
        "id": "_muLHULdhYAh"
      }
    },
    {
      "cell_type": "code",
      "source": [
        "Egg_Traits.describe() #For some descriptive statistics\n",
        "\n"
      ],
      "metadata": {
        "colab": {
          "base_uri": "https://localhost:8080/",
          "height": 355
        },
        "id": "tZsShrKqhbde",
        "outputId": "c029b710-cb19-4e80-d573-561a201019bd"
      },
      "execution_count": 3,
      "outputs": [
        {
          "output_type": "execute_result",
          "data": {
            "text/plain": [
              "       EGG_WEIGHT   EGG_LENGTH   EGG_WIDTH  YOLK _ALB_WEIGHT   SHELL_WEIGTH  \\\n",
              "count   300.000000  300.000000  300.000000         300.000000    300.000000   \n",
              "mean     63.848667    5.800800    4.340500          55.607333      7.593667   \n",
              "std       6.304399    0.306651    0.291033           5.840976      0.704686   \n",
              "min      49.700000    5.100000    0.300000          43.000000      5.900000   \n",
              "25%      59.200000    5.587500    4.200000          51.300000      7.100000   \n",
              "50%      63.650000    5.800000    4.300000          55.500000      7.500000   \n",
              "75%      68.600000    6.000000    4.500000          60.350000      8.025000   \n",
              "max      78.900000    7.000000    4.900000          70.200000      9.900000   \n",
              "\n",
              "       SHELL_THICKNESS  Haugh Unit  Shell surface area  Yolk Index  \\\n",
              "count       300.000000  299.000000          300.000000  296.000000   \n",
              "mean          0.323033   84.539822           72.483645   48.002424   \n",
              "std           0.042691    0.744175            4.739732    4.481038   \n",
              "min           0.200000   81.801110           61.505237   21.621622   \n",
              "25%           0.290000   84.057052           69.031801   45.238095   \n",
              "50%           0.330000   84.548793           72.414210   47.619048   \n",
              "75%           0.350000   85.045960           76.083555   50.166667   \n",
              "max           0.420000   86.421165           83.442576   61.764706   \n",
              "\n",
              "       Shape Index  \n",
              "count   300.000000  \n",
              "mean     75.555584  \n",
              "std       5.981744  \n",
              "min       5.263158  \n",
              "25%      73.098388  \n",
              "50%      75.545385  \n",
              "75%      78.181818  \n",
              "max      89.090909  "
            ],
            "text/html": [
              "\n",
              "  <div id=\"df-2139c5a2-fcc0-4f3a-aa1c-1ee9f7f1c7fc\" class=\"colab-df-container\">\n",
              "    <div>\n",
              "<style scoped>\n",
              "    .dataframe tbody tr th:only-of-type {\n",
              "        vertical-align: middle;\n",
              "    }\n",
              "\n",
              "    .dataframe tbody tr th {\n",
              "        vertical-align: top;\n",
              "    }\n",
              "\n",
              "    .dataframe thead th {\n",
              "        text-align: right;\n",
              "    }\n",
              "</style>\n",
              "<table border=\"1\" class=\"dataframe\">\n",
              "  <thead>\n",
              "    <tr style=\"text-align: right;\">\n",
              "      <th></th>\n",
              "      <th>EGG_WEIGHT</th>\n",
              "      <th>EGG_LENGTH</th>\n",
              "      <th>EGG_WIDTH</th>\n",
              "      <th>YOLK _ALB_WEIGHT</th>\n",
              "      <th>SHELL_WEIGTH</th>\n",
              "      <th>SHELL_THICKNESS</th>\n",
              "      <th>Haugh Unit</th>\n",
              "      <th>Shell surface area</th>\n",
              "      <th>Yolk Index</th>\n",
              "      <th>Shape Index</th>\n",
              "    </tr>\n",
              "  </thead>\n",
              "  <tbody>\n",
              "    <tr>\n",
              "      <th>count</th>\n",
              "      <td>300.000000</td>\n",
              "      <td>300.000000</td>\n",
              "      <td>300.000000</td>\n",
              "      <td>300.000000</td>\n",
              "      <td>300.000000</td>\n",
              "      <td>300.000000</td>\n",
              "      <td>299.000000</td>\n",
              "      <td>300.000000</td>\n",
              "      <td>296.000000</td>\n",
              "      <td>300.000000</td>\n",
              "    </tr>\n",
              "    <tr>\n",
              "      <th>mean</th>\n",
              "      <td>63.848667</td>\n",
              "      <td>5.800800</td>\n",
              "      <td>4.340500</td>\n",
              "      <td>55.607333</td>\n",
              "      <td>7.593667</td>\n",
              "      <td>0.323033</td>\n",
              "      <td>84.539822</td>\n",
              "      <td>72.483645</td>\n",
              "      <td>48.002424</td>\n",
              "      <td>75.555584</td>\n",
              "    </tr>\n",
              "    <tr>\n",
              "      <th>std</th>\n",
              "      <td>6.304399</td>\n",
              "      <td>0.306651</td>\n",
              "      <td>0.291033</td>\n",
              "      <td>5.840976</td>\n",
              "      <td>0.704686</td>\n",
              "      <td>0.042691</td>\n",
              "      <td>0.744175</td>\n",
              "      <td>4.739732</td>\n",
              "      <td>4.481038</td>\n",
              "      <td>5.981744</td>\n",
              "    </tr>\n",
              "    <tr>\n",
              "      <th>min</th>\n",
              "      <td>49.700000</td>\n",
              "      <td>5.100000</td>\n",
              "      <td>0.300000</td>\n",
              "      <td>43.000000</td>\n",
              "      <td>5.900000</td>\n",
              "      <td>0.200000</td>\n",
              "      <td>81.801110</td>\n",
              "      <td>61.505237</td>\n",
              "      <td>21.621622</td>\n",
              "      <td>5.263158</td>\n",
              "    </tr>\n",
              "    <tr>\n",
              "      <th>25%</th>\n",
              "      <td>59.200000</td>\n",
              "      <td>5.587500</td>\n",
              "      <td>4.200000</td>\n",
              "      <td>51.300000</td>\n",
              "      <td>7.100000</td>\n",
              "      <td>0.290000</td>\n",
              "      <td>84.057052</td>\n",
              "      <td>69.031801</td>\n",
              "      <td>45.238095</td>\n",
              "      <td>73.098388</td>\n",
              "    </tr>\n",
              "    <tr>\n",
              "      <th>50%</th>\n",
              "      <td>63.650000</td>\n",
              "      <td>5.800000</td>\n",
              "      <td>4.300000</td>\n",
              "      <td>55.500000</td>\n",
              "      <td>7.500000</td>\n",
              "      <td>0.330000</td>\n",
              "      <td>84.548793</td>\n",
              "      <td>72.414210</td>\n",
              "      <td>47.619048</td>\n",
              "      <td>75.545385</td>\n",
              "    </tr>\n",
              "    <tr>\n",
              "      <th>75%</th>\n",
              "      <td>68.600000</td>\n",
              "      <td>6.000000</td>\n",
              "      <td>4.500000</td>\n",
              "      <td>60.350000</td>\n",
              "      <td>8.025000</td>\n",
              "      <td>0.350000</td>\n",
              "      <td>85.045960</td>\n",
              "      <td>76.083555</td>\n",
              "      <td>50.166667</td>\n",
              "      <td>78.181818</td>\n",
              "    </tr>\n",
              "    <tr>\n",
              "      <th>max</th>\n",
              "      <td>78.900000</td>\n",
              "      <td>7.000000</td>\n",
              "      <td>4.900000</td>\n",
              "      <td>70.200000</td>\n",
              "      <td>9.900000</td>\n",
              "      <td>0.420000</td>\n",
              "      <td>86.421165</td>\n",
              "      <td>83.442576</td>\n",
              "      <td>61.764706</td>\n",
              "      <td>89.090909</td>\n",
              "    </tr>\n",
              "  </tbody>\n",
              "</table>\n",
              "</div>\n",
              "    <div class=\"colab-df-buttons\">\n",
              "\n",
              "  <div class=\"colab-df-container\">\n",
              "    <button class=\"colab-df-convert\" onclick=\"convertToInteractive('df-2139c5a2-fcc0-4f3a-aa1c-1ee9f7f1c7fc')\"\n",
              "            title=\"Convert this dataframe to an interactive table.\"\n",
              "            style=\"display:none;\">\n",
              "\n",
              "  <svg xmlns=\"http://www.w3.org/2000/svg\" height=\"24px\" viewBox=\"0 -960 960 960\">\n",
              "    <path d=\"M120-120v-720h720v720H120Zm60-500h600v-160H180v160Zm220 220h160v-160H400v160Zm0 220h160v-160H400v160ZM180-400h160v-160H180v160Zm440 0h160v-160H620v160ZM180-180h160v-160H180v160Zm440 0h160v-160H620v160Z\"/>\n",
              "  </svg>\n",
              "    </button>\n",
              "\n",
              "  <style>\n",
              "    .colab-df-container {\n",
              "      display:flex;\n",
              "      gap: 12px;\n",
              "    }\n",
              "\n",
              "    .colab-df-convert {\n",
              "      background-color: #E8F0FE;\n",
              "      border: none;\n",
              "      border-radius: 50%;\n",
              "      cursor: pointer;\n",
              "      display: none;\n",
              "      fill: #1967D2;\n",
              "      height: 32px;\n",
              "      padding: 0 0 0 0;\n",
              "      width: 32px;\n",
              "    }\n",
              "\n",
              "    .colab-df-convert:hover {\n",
              "      background-color: #E2EBFA;\n",
              "      box-shadow: 0px 1px 2px rgba(60, 64, 67, 0.3), 0px 1px 3px 1px rgba(60, 64, 67, 0.15);\n",
              "      fill: #174EA6;\n",
              "    }\n",
              "\n",
              "    .colab-df-buttons div {\n",
              "      margin-bottom: 4px;\n",
              "    }\n",
              "\n",
              "    [theme=dark] .colab-df-convert {\n",
              "      background-color: #3B4455;\n",
              "      fill: #D2E3FC;\n",
              "    }\n",
              "\n",
              "    [theme=dark] .colab-df-convert:hover {\n",
              "      background-color: #434B5C;\n",
              "      box-shadow: 0px 1px 3px 1px rgba(0, 0, 0, 0.15);\n",
              "      filter: drop-shadow(0px 1px 2px rgba(0, 0, 0, 0.3));\n",
              "      fill: #FFFFFF;\n",
              "    }\n",
              "  </style>\n",
              "\n",
              "    <script>\n",
              "      const buttonEl =\n",
              "        document.querySelector('#df-2139c5a2-fcc0-4f3a-aa1c-1ee9f7f1c7fc button.colab-df-convert');\n",
              "      buttonEl.style.display =\n",
              "        google.colab.kernel.accessAllowed ? 'block' : 'none';\n",
              "\n",
              "      async function convertToInteractive(key) {\n",
              "        const element = document.querySelector('#df-2139c5a2-fcc0-4f3a-aa1c-1ee9f7f1c7fc');\n",
              "        const dataTable =\n",
              "          await google.colab.kernel.invokeFunction('convertToInteractive',\n",
              "                                                    [key], {});\n",
              "        if (!dataTable) return;\n",
              "\n",
              "        const docLinkHtml = 'Like what you see? Visit the ' +\n",
              "          '<a target=\"_blank\" href=https://colab.research.google.com/notebooks/data_table.ipynb>data table notebook</a>'\n",
              "          + ' to learn more about interactive tables.';\n",
              "        element.innerHTML = '';\n",
              "        dataTable['output_type'] = 'display_data';\n",
              "        await google.colab.output.renderOutput(dataTable, element);\n",
              "        const docLink = document.createElement('div');\n",
              "        docLink.innerHTML = docLinkHtml;\n",
              "        element.appendChild(docLink);\n",
              "      }\n",
              "    </script>\n",
              "  </div>\n",
              "\n",
              "\n",
              "    <div id=\"df-0019c602-1f7b-469a-99b6-ae485e628a18\">\n",
              "      <button class=\"colab-df-quickchart\" onclick=\"quickchart('df-0019c602-1f7b-469a-99b6-ae485e628a18')\"\n",
              "                title=\"Suggest charts\"\n",
              "                style=\"display:none;\">\n",
              "\n",
              "<svg xmlns=\"http://www.w3.org/2000/svg\" height=\"24px\"viewBox=\"0 0 24 24\"\n",
              "     width=\"24px\">\n",
              "    <g>\n",
              "        <path d=\"M19 3H5c-1.1 0-2 .9-2 2v14c0 1.1.9 2 2 2h14c1.1 0 2-.9 2-2V5c0-1.1-.9-2-2-2zM9 17H7v-7h2v7zm4 0h-2V7h2v10zm4 0h-2v-4h2v4z\"/>\n",
              "    </g>\n",
              "</svg>\n",
              "      </button>\n",
              "\n",
              "<style>\n",
              "  .colab-df-quickchart {\n",
              "      --bg-color: #E8F0FE;\n",
              "      --fill-color: #1967D2;\n",
              "      --hover-bg-color: #E2EBFA;\n",
              "      --hover-fill-color: #174EA6;\n",
              "      --disabled-fill-color: #AAA;\n",
              "      --disabled-bg-color: #DDD;\n",
              "  }\n",
              "\n",
              "  [theme=dark] .colab-df-quickchart {\n",
              "      --bg-color: #3B4455;\n",
              "      --fill-color: #D2E3FC;\n",
              "      --hover-bg-color: #434B5C;\n",
              "      --hover-fill-color: #FFFFFF;\n",
              "      --disabled-bg-color: #3B4455;\n",
              "      --disabled-fill-color: #666;\n",
              "  }\n",
              "\n",
              "  .colab-df-quickchart {\n",
              "    background-color: var(--bg-color);\n",
              "    border: none;\n",
              "    border-radius: 50%;\n",
              "    cursor: pointer;\n",
              "    display: none;\n",
              "    fill: var(--fill-color);\n",
              "    height: 32px;\n",
              "    padding: 0;\n",
              "    width: 32px;\n",
              "  }\n",
              "\n",
              "  .colab-df-quickchart:hover {\n",
              "    background-color: var(--hover-bg-color);\n",
              "    box-shadow: 0 1px 2px rgba(60, 64, 67, 0.3), 0 1px 3px 1px rgba(60, 64, 67, 0.15);\n",
              "    fill: var(--button-hover-fill-color);\n",
              "  }\n",
              "\n",
              "  .colab-df-quickchart-complete:disabled,\n",
              "  .colab-df-quickchart-complete:disabled:hover {\n",
              "    background-color: var(--disabled-bg-color);\n",
              "    fill: var(--disabled-fill-color);\n",
              "    box-shadow: none;\n",
              "  }\n",
              "\n",
              "  .colab-df-spinner {\n",
              "    border: 2px solid var(--fill-color);\n",
              "    border-color: transparent;\n",
              "    border-bottom-color: var(--fill-color);\n",
              "    animation:\n",
              "      spin 1s steps(1) infinite;\n",
              "  }\n",
              "\n",
              "  @keyframes spin {\n",
              "    0% {\n",
              "      border-color: transparent;\n",
              "      border-bottom-color: var(--fill-color);\n",
              "      border-left-color: var(--fill-color);\n",
              "    }\n",
              "    20% {\n",
              "      border-color: transparent;\n",
              "      border-left-color: var(--fill-color);\n",
              "      border-top-color: var(--fill-color);\n",
              "    }\n",
              "    30% {\n",
              "      border-color: transparent;\n",
              "      border-left-color: var(--fill-color);\n",
              "      border-top-color: var(--fill-color);\n",
              "      border-right-color: var(--fill-color);\n",
              "    }\n",
              "    40% {\n",
              "      border-color: transparent;\n",
              "      border-right-color: var(--fill-color);\n",
              "      border-top-color: var(--fill-color);\n",
              "    }\n",
              "    60% {\n",
              "      border-color: transparent;\n",
              "      border-right-color: var(--fill-color);\n",
              "    }\n",
              "    80% {\n",
              "      border-color: transparent;\n",
              "      border-right-color: var(--fill-color);\n",
              "      border-bottom-color: var(--fill-color);\n",
              "    }\n",
              "    90% {\n",
              "      border-color: transparent;\n",
              "      border-bottom-color: var(--fill-color);\n",
              "    }\n",
              "  }\n",
              "</style>\n",
              "\n",
              "      <script>\n",
              "        async function quickchart(key) {\n",
              "          const quickchartButtonEl =\n",
              "            document.querySelector('#' + key + ' button');\n",
              "          quickchartButtonEl.disabled = true;  // To prevent multiple clicks.\n",
              "          quickchartButtonEl.classList.add('colab-df-spinner');\n",
              "          try {\n",
              "            const charts = await google.colab.kernel.invokeFunction(\n",
              "                'suggestCharts', [key], {});\n",
              "          } catch (error) {\n",
              "            console.error('Error during call to suggestCharts:', error);\n",
              "          }\n",
              "          quickchartButtonEl.classList.remove('colab-df-spinner');\n",
              "          quickchartButtonEl.classList.add('colab-df-quickchart-complete');\n",
              "        }\n",
              "        (() => {\n",
              "          let quickchartButtonEl =\n",
              "            document.querySelector('#df-0019c602-1f7b-469a-99b6-ae485e628a18 button');\n",
              "          quickchartButtonEl.style.display =\n",
              "            google.colab.kernel.accessAllowed ? 'block' : 'none';\n",
              "        })();\n",
              "      </script>\n",
              "    </div>\n",
              "\n",
              "    </div>\n",
              "  </div>\n"
            ],
            "application/vnd.google.colaboratory.intrinsic+json": {
              "type": "dataframe",
              "summary": "{\n  \"name\": \"Egg_Traits\",\n  \"rows\": 8,\n  \"fields\": [\n    {\n      \"column\": \"EGG_WEIGHT \",\n      \"properties\": {\n        \"dtype\": \"number\",\n        \"std\": 89.06344942329333,\n        \"min\": 6.3043992355571215,\n        \"max\": 300.0,\n        \"num_unique_values\": 8,\n        \"samples\": [\n          63.84866666666666,\n          63.650000000000006,\n          300.0\n        ],\n        \"semantic_type\": \"\",\n        \"description\": \"\"\n      }\n    },\n    {\n      \"column\": \"EGG_LENGTH\",\n      \"properties\": {\n        \"dtype\": \"number\",\n        \"std\": 104.2878003296847,\n        \"min\": 0.30665095689488486,\n        \"max\": 300.0,\n        \"num_unique_values\": 8,\n        \"samples\": [\n          5.800799999999999,\n          5.8,\n          300.0\n        ],\n        \"semantic_type\": \"\",\n        \"description\": \"\"\n      }\n    },\n    {\n      \"column\": \"EGG_WIDTH\",\n      \"properties\": {\n        \"dtype\": \"number\",\n        \"std\": 104.92982673742624,\n        \"min\": 0.29103336245214406,\n        \"max\": 300.0,\n        \"num_unique_values\": 8,\n        \"samples\": [\n          4.3405,\n          4.3,\n          300.0\n        ],\n        \"semantic_type\": \"\",\n        \"description\": \"\"\n      }\n    },\n    {\n      \"column\": \"YOLK _ALB_WEIGHT \",\n      \"properties\": {\n        \"dtype\": \"number\",\n        \"std\": 90.84465646627577,\n        \"min\": 5.840976193972265,\n        \"max\": 300.0,\n        \"num_unique_values\": 8,\n        \"samples\": [\n          55.60733333333332,\n          55.5,\n          300.0\n        ],\n        \"semantic_type\": \"\",\n        \"description\": \"\"\n      }\n    },\n    {\n      \"column\": \"SHELL_WEIGTH\",\n      \"properties\": {\n        \"dtype\": \"number\",\n        \"std\": 103.74068330101808,\n        \"min\": 0.704685623747647,\n        \"max\": 300.0,\n        \"num_unique_values\": 8,\n        \"samples\": [\n          7.593666666666665,\n          7.5,\n          300.0\n        ],\n        \"semantic_type\": \"\",\n        \"description\": \"\"\n      }\n    },\n    {\n      \"column\": \"SHELL_THICKNESS\",\n      \"properties\": {\n        \"dtype\": \"number\",\n        \"std\": 105.96729995878268,\n        \"min\": 0.042691224990539546,\n        \"max\": 300.0,\n        \"num_unique_values\": 8,\n        \"samples\": [\n          0.32303333333333334,\n          0.33,\n          300.0\n        ],\n        \"semantic_type\": \"\",\n        \"description\": \"\"\n      }\n    },\n    {\n      \"column\": \"Haugh Unit\",\n      \"properties\": {\n        \"dtype\": \"number\",\n        \"std\": 85.28868689365945,\n        \"min\": 0.7441747897981712,\n        \"max\": 299.0,\n        \"num_unique_values\": 8,\n        \"samples\": [\n          84.53982191266078,\n          84.5487931097377,\n          299.0\n        ],\n        \"semantic_type\": \"\",\n        \"description\": \"\"\n      }\n    },\n    {\n      \"column\": \"Shell surface area\",\n      \"properties\": {\n        \"dtype\": \"number\",\n        \"std\": 87.36227129476275,\n        \"min\": 4.739731953213754,\n        \"max\": 300.0,\n        \"num_unique_values\": 8,\n        \"samples\": [\n          72.48364520203333,\n          72.41421044136975,\n          300.0\n        ],\n        \"semantic_type\": \"\",\n        \"description\": \"\"\n      }\n    },\n    {\n      \"column\": \"Yolk Index\",\n      \"properties\": {\n        \"dtype\": \"number\",\n        \"std\": 92.38166791777027,\n        \"min\": 4.48103803433253,\n        \"max\": 296.0,\n        \"num_unique_values\": 8,\n        \"samples\": [\n          48.002423500720255,\n          47.61904761904761,\n          296.0\n        ],\n        \"semantic_type\": \"\",\n        \"description\": \"\"\n      }\n    },\n    {\n      \"column\": \"Shape Index\",\n      \"properties\": {\n        \"dtype\": \"number\",\n        \"std\": 91.92061734980504,\n        \"min\": 5.263157894736842,\n        \"max\": 300.0,\n        \"num_unique_values\": 8,\n        \"samples\": [\n          75.55558422062866,\n          75.54538520213576,\n          300.0\n        ],\n        \"semantic_type\": \"\",\n        \"description\": \"\"\n      }\n    }\n  ]\n}"
            }
          },
          "metadata": {},
          "execution_count": 3
        }
      ]
    },
    {
      "cell_type": "code",
      "source": [
        "Egg_Traits['Outcome'].value_counts()\n",
        "\n"
      ],
      "metadata": {
        "colab": {
          "base_uri": "https://localhost:8080/",
          "height": 178
        },
        "id": "153LFag-kD1a",
        "outputId": "32172485-df63-4cad-eae1-96ecb49f8912"
      },
      "execution_count": 4,
      "outputs": [
        {
          "output_type": "execute_result",
          "data": {
            "text/plain": [
              "Outcome\n",
              "Large    229\n",
              "Small     71\n",
              "Name: count, dtype: int64"
            ],
            "text/html": [
              "<div>\n",
              "<style scoped>\n",
              "    .dataframe tbody tr th:only-of-type {\n",
              "        vertical-align: middle;\n",
              "    }\n",
              "\n",
              "    .dataframe tbody tr th {\n",
              "        vertical-align: top;\n",
              "    }\n",
              "\n",
              "    .dataframe thead th {\n",
              "        text-align: right;\n",
              "    }\n",
              "</style>\n",
              "<table border=\"1\" class=\"dataframe\">\n",
              "  <thead>\n",
              "    <tr style=\"text-align: right;\">\n",
              "      <th></th>\n",
              "      <th>count</th>\n",
              "    </tr>\n",
              "    <tr>\n",
              "      <th>Outcome</th>\n",
              "      <th></th>\n",
              "    </tr>\n",
              "  </thead>\n",
              "  <tbody>\n",
              "    <tr>\n",
              "      <th>Large</th>\n",
              "      <td>229</td>\n",
              "    </tr>\n",
              "    <tr>\n",
              "      <th>Small</th>\n",
              "      <td>71</td>\n",
              "    </tr>\n",
              "  </tbody>\n",
              "</table>\n",
              "</div><br><label><b>dtype:</b> int64</label>"
            ]
          },
          "metadata": {},
          "execution_count": 4
        }
      ]
    },
    {
      "cell_type": "code",
      "source": [
        "numeric_columns = Egg_Traits.select_dtypes(include=np.number).columns\n",
        "\n",
        "# Calculate the mean for only numeric columns\n",
        "Egg_Traits.groupby('Outcome')[numeric_columns].mean()"
      ],
      "metadata": {
        "colab": {
          "base_uri": "https://localhost:8080/",
          "height": 198
        },
        "id": "FW-ddGFekO-C",
        "outputId": "f5e5886f-f809-4e80-8b78-27634c296118"
      },
      "execution_count": 5,
      "outputs": [
        {
          "output_type": "execute_result",
          "data": {
            "text/plain": [
              "         EGG_WEIGHT   EGG_LENGTH  EGG_WIDTH  YOLK _ALB_WEIGHT   SHELL_WEIGTH  \\\n",
              "Outcome                                                                        \n",
              "Large      66.427948    5.890349   4.392140          57.916594      7.759825   \n",
              "Small      55.529577    5.511972   4.173944          48.159155      7.057746   \n",
              "\n",
              "         SHELL_THICKNESS  Haugh Unit  Shell surface area  Yolk Index  \\\n",
              "Outcome                                                                \n",
              "Large           0.317031   84.428646           74.443886   47.850931   \n",
              "Small           0.342394   84.896838           66.161177   48.510369   \n",
              "\n",
              "         Shape Index  \n",
              "Outcome               \n",
              "Large      74.856325  \n",
              "Small      77.810941  "
            ],
            "text/html": [
              "\n",
              "  <div id=\"df-69ce725e-5250-4c3e-9e27-e860759b8777\" class=\"colab-df-container\">\n",
              "    <div>\n",
              "<style scoped>\n",
              "    .dataframe tbody tr th:only-of-type {\n",
              "        vertical-align: middle;\n",
              "    }\n",
              "\n",
              "    .dataframe tbody tr th {\n",
              "        vertical-align: top;\n",
              "    }\n",
              "\n",
              "    .dataframe thead th {\n",
              "        text-align: right;\n",
              "    }\n",
              "</style>\n",
              "<table border=\"1\" class=\"dataframe\">\n",
              "  <thead>\n",
              "    <tr style=\"text-align: right;\">\n",
              "      <th></th>\n",
              "      <th>EGG_WEIGHT</th>\n",
              "      <th>EGG_LENGTH</th>\n",
              "      <th>EGG_WIDTH</th>\n",
              "      <th>YOLK _ALB_WEIGHT</th>\n",
              "      <th>SHELL_WEIGTH</th>\n",
              "      <th>SHELL_THICKNESS</th>\n",
              "      <th>Haugh Unit</th>\n",
              "      <th>Shell surface area</th>\n",
              "      <th>Yolk Index</th>\n",
              "      <th>Shape Index</th>\n",
              "    </tr>\n",
              "    <tr>\n",
              "      <th>Outcome</th>\n",
              "      <th></th>\n",
              "      <th></th>\n",
              "      <th></th>\n",
              "      <th></th>\n",
              "      <th></th>\n",
              "      <th></th>\n",
              "      <th></th>\n",
              "      <th></th>\n",
              "      <th></th>\n",
              "      <th></th>\n",
              "    </tr>\n",
              "  </thead>\n",
              "  <tbody>\n",
              "    <tr>\n",
              "      <th>Large</th>\n",
              "      <td>66.427948</td>\n",
              "      <td>5.890349</td>\n",
              "      <td>4.392140</td>\n",
              "      <td>57.916594</td>\n",
              "      <td>7.759825</td>\n",
              "      <td>0.317031</td>\n",
              "      <td>84.428646</td>\n",
              "      <td>74.443886</td>\n",
              "      <td>47.850931</td>\n",
              "      <td>74.856325</td>\n",
              "    </tr>\n",
              "    <tr>\n",
              "      <th>Small</th>\n",
              "      <td>55.529577</td>\n",
              "      <td>5.511972</td>\n",
              "      <td>4.173944</td>\n",
              "      <td>48.159155</td>\n",
              "      <td>7.057746</td>\n",
              "      <td>0.342394</td>\n",
              "      <td>84.896838</td>\n",
              "      <td>66.161177</td>\n",
              "      <td>48.510369</td>\n",
              "      <td>77.810941</td>\n",
              "    </tr>\n",
              "  </tbody>\n",
              "</table>\n",
              "</div>\n",
              "    <div class=\"colab-df-buttons\">\n",
              "\n",
              "  <div class=\"colab-df-container\">\n",
              "    <button class=\"colab-df-convert\" onclick=\"convertToInteractive('df-69ce725e-5250-4c3e-9e27-e860759b8777')\"\n",
              "            title=\"Convert this dataframe to an interactive table.\"\n",
              "            style=\"display:none;\">\n",
              "\n",
              "  <svg xmlns=\"http://www.w3.org/2000/svg\" height=\"24px\" viewBox=\"0 -960 960 960\">\n",
              "    <path d=\"M120-120v-720h720v720H120Zm60-500h600v-160H180v160Zm220 220h160v-160H400v160Zm0 220h160v-160H400v160ZM180-400h160v-160H180v160Zm440 0h160v-160H620v160ZM180-180h160v-160H180v160Zm440 0h160v-160H620v160Z\"/>\n",
              "  </svg>\n",
              "    </button>\n",
              "\n",
              "  <style>\n",
              "    .colab-df-container {\n",
              "      display:flex;\n",
              "      gap: 12px;\n",
              "    }\n",
              "\n",
              "    .colab-df-convert {\n",
              "      background-color: #E8F0FE;\n",
              "      border: none;\n",
              "      border-radius: 50%;\n",
              "      cursor: pointer;\n",
              "      display: none;\n",
              "      fill: #1967D2;\n",
              "      height: 32px;\n",
              "      padding: 0 0 0 0;\n",
              "      width: 32px;\n",
              "    }\n",
              "\n",
              "    .colab-df-convert:hover {\n",
              "      background-color: #E2EBFA;\n",
              "      box-shadow: 0px 1px 2px rgba(60, 64, 67, 0.3), 0px 1px 3px 1px rgba(60, 64, 67, 0.15);\n",
              "      fill: #174EA6;\n",
              "    }\n",
              "\n",
              "    .colab-df-buttons div {\n",
              "      margin-bottom: 4px;\n",
              "    }\n",
              "\n",
              "    [theme=dark] .colab-df-convert {\n",
              "      background-color: #3B4455;\n",
              "      fill: #D2E3FC;\n",
              "    }\n",
              "\n",
              "    [theme=dark] .colab-df-convert:hover {\n",
              "      background-color: #434B5C;\n",
              "      box-shadow: 0px 1px 3px 1px rgba(0, 0, 0, 0.15);\n",
              "      filter: drop-shadow(0px 1px 2px rgba(0, 0, 0, 0.3));\n",
              "      fill: #FFFFFF;\n",
              "    }\n",
              "  </style>\n",
              "\n",
              "    <script>\n",
              "      const buttonEl =\n",
              "        document.querySelector('#df-69ce725e-5250-4c3e-9e27-e860759b8777 button.colab-df-convert');\n",
              "      buttonEl.style.display =\n",
              "        google.colab.kernel.accessAllowed ? 'block' : 'none';\n",
              "\n",
              "      async function convertToInteractive(key) {\n",
              "        const element = document.querySelector('#df-69ce725e-5250-4c3e-9e27-e860759b8777');\n",
              "        const dataTable =\n",
              "          await google.colab.kernel.invokeFunction('convertToInteractive',\n",
              "                                                    [key], {});\n",
              "        if (!dataTable) return;\n",
              "\n",
              "        const docLinkHtml = 'Like what you see? Visit the ' +\n",
              "          '<a target=\"_blank\" href=https://colab.research.google.com/notebooks/data_table.ipynb>data table notebook</a>'\n",
              "          + ' to learn more about interactive tables.';\n",
              "        element.innerHTML = '';\n",
              "        dataTable['output_type'] = 'display_data';\n",
              "        await google.colab.output.renderOutput(dataTable, element);\n",
              "        const docLink = document.createElement('div');\n",
              "        docLink.innerHTML = docLinkHtml;\n",
              "        element.appendChild(docLink);\n",
              "      }\n",
              "    </script>\n",
              "  </div>\n",
              "\n",
              "\n",
              "    <div id=\"df-0891d448-c303-4ce5-9391-1f3f943a1c05\">\n",
              "      <button class=\"colab-df-quickchart\" onclick=\"quickchart('df-0891d448-c303-4ce5-9391-1f3f943a1c05')\"\n",
              "                title=\"Suggest charts\"\n",
              "                style=\"display:none;\">\n",
              "\n",
              "<svg xmlns=\"http://www.w3.org/2000/svg\" height=\"24px\"viewBox=\"0 0 24 24\"\n",
              "     width=\"24px\">\n",
              "    <g>\n",
              "        <path d=\"M19 3H5c-1.1 0-2 .9-2 2v14c0 1.1.9 2 2 2h14c1.1 0 2-.9 2-2V5c0-1.1-.9-2-2-2zM9 17H7v-7h2v7zm4 0h-2V7h2v10zm4 0h-2v-4h2v4z\"/>\n",
              "    </g>\n",
              "</svg>\n",
              "      </button>\n",
              "\n",
              "<style>\n",
              "  .colab-df-quickchart {\n",
              "      --bg-color: #E8F0FE;\n",
              "      --fill-color: #1967D2;\n",
              "      --hover-bg-color: #E2EBFA;\n",
              "      --hover-fill-color: #174EA6;\n",
              "      --disabled-fill-color: #AAA;\n",
              "      --disabled-bg-color: #DDD;\n",
              "  }\n",
              "\n",
              "  [theme=dark] .colab-df-quickchart {\n",
              "      --bg-color: #3B4455;\n",
              "      --fill-color: #D2E3FC;\n",
              "      --hover-bg-color: #434B5C;\n",
              "      --hover-fill-color: #FFFFFF;\n",
              "      --disabled-bg-color: #3B4455;\n",
              "      --disabled-fill-color: #666;\n",
              "  }\n",
              "\n",
              "  .colab-df-quickchart {\n",
              "    background-color: var(--bg-color);\n",
              "    border: none;\n",
              "    border-radius: 50%;\n",
              "    cursor: pointer;\n",
              "    display: none;\n",
              "    fill: var(--fill-color);\n",
              "    height: 32px;\n",
              "    padding: 0;\n",
              "    width: 32px;\n",
              "  }\n",
              "\n",
              "  .colab-df-quickchart:hover {\n",
              "    background-color: var(--hover-bg-color);\n",
              "    box-shadow: 0 1px 2px rgba(60, 64, 67, 0.3), 0 1px 3px 1px rgba(60, 64, 67, 0.15);\n",
              "    fill: var(--button-hover-fill-color);\n",
              "  }\n",
              "\n",
              "  .colab-df-quickchart-complete:disabled,\n",
              "  .colab-df-quickchart-complete:disabled:hover {\n",
              "    background-color: var(--disabled-bg-color);\n",
              "    fill: var(--disabled-fill-color);\n",
              "    box-shadow: none;\n",
              "  }\n",
              "\n",
              "  .colab-df-spinner {\n",
              "    border: 2px solid var(--fill-color);\n",
              "    border-color: transparent;\n",
              "    border-bottom-color: var(--fill-color);\n",
              "    animation:\n",
              "      spin 1s steps(1) infinite;\n",
              "  }\n",
              "\n",
              "  @keyframes spin {\n",
              "    0% {\n",
              "      border-color: transparent;\n",
              "      border-bottom-color: var(--fill-color);\n",
              "      border-left-color: var(--fill-color);\n",
              "    }\n",
              "    20% {\n",
              "      border-color: transparent;\n",
              "      border-left-color: var(--fill-color);\n",
              "      border-top-color: var(--fill-color);\n",
              "    }\n",
              "    30% {\n",
              "      border-color: transparent;\n",
              "      border-left-color: var(--fill-color);\n",
              "      border-top-color: var(--fill-color);\n",
              "      border-right-color: var(--fill-color);\n",
              "    }\n",
              "    40% {\n",
              "      border-color: transparent;\n",
              "      border-right-color: var(--fill-color);\n",
              "      border-top-color: var(--fill-color);\n",
              "    }\n",
              "    60% {\n",
              "      border-color: transparent;\n",
              "      border-right-color: var(--fill-color);\n",
              "    }\n",
              "    80% {\n",
              "      border-color: transparent;\n",
              "      border-right-color: var(--fill-color);\n",
              "      border-bottom-color: var(--fill-color);\n",
              "    }\n",
              "    90% {\n",
              "      border-color: transparent;\n",
              "      border-bottom-color: var(--fill-color);\n",
              "    }\n",
              "  }\n",
              "</style>\n",
              "\n",
              "      <script>\n",
              "        async function quickchart(key) {\n",
              "          const quickchartButtonEl =\n",
              "            document.querySelector('#' + key + ' button');\n",
              "          quickchartButtonEl.disabled = true;  // To prevent multiple clicks.\n",
              "          quickchartButtonEl.classList.add('colab-df-spinner');\n",
              "          try {\n",
              "            const charts = await google.colab.kernel.invokeFunction(\n",
              "                'suggestCharts', [key], {});\n",
              "          } catch (error) {\n",
              "            console.error('Error during call to suggestCharts:', error);\n",
              "          }\n",
              "          quickchartButtonEl.classList.remove('colab-df-spinner');\n",
              "          quickchartButtonEl.classList.add('colab-df-quickchart-complete');\n",
              "        }\n",
              "        (() => {\n",
              "          let quickchartButtonEl =\n",
              "            document.querySelector('#df-0891d448-c303-4ce5-9391-1f3f943a1c05 button');\n",
              "          quickchartButtonEl.style.display =\n",
              "            google.colab.kernel.accessAllowed ? 'block' : 'none';\n",
              "        })();\n",
              "      </script>\n",
              "    </div>\n",
              "\n",
              "    </div>\n",
              "  </div>\n"
            ],
            "application/vnd.google.colaboratory.intrinsic+json": {
              "type": "dataframe",
              "summary": "{\n  \"name\": \"Egg_Traits\",\n  \"rows\": 2,\n  \"fields\": [\n    {\n      \"column\": \"Outcome\",\n      \"properties\": {\n        \"dtype\": \"string\",\n        \"num_unique_values\": 2,\n        \"samples\": [\n          \"Small\",\n          \"Large\"\n        ],\n        \"semantic_type\": \"\",\n        \"description\": \"\"\n      }\n    },\n    {\n      \"column\": \"EGG_WEIGHT \",\n      \"properties\": {\n        \"dtype\": \"number\",\n        \"std\": 7.706311425253714,\n        \"min\": 55.52957746478873,\n        \"max\": 66.42794759825327,\n        \"num_unique_values\": 2,\n        \"samples\": [\n          55.52957746478873,\n          66.42794759825327\n        ],\n        \"semantic_type\": \"\",\n        \"description\": \"\"\n      }\n    },\n    {\n      \"column\": \"EGG_LENGTH\",\n      \"properties\": {\n        \"dtype\": \"number\",\n        \"std\": 0.2675533059924284,\n        \"min\": 5.511971830985916,\n        \"max\": 5.8903493449781665,\n        \"num_unique_values\": 2,\n        \"samples\": [\n          5.511971830985916,\n          5.8903493449781665\n        ],\n        \"semantic_type\": \"\",\n        \"description\": \"\"\n      }\n    },\n    {\n      \"column\": \"EGG_WIDTH\",\n      \"properties\": {\n        \"dtype\": \"number\",\n        \"std\": 0.15428792498163793,\n        \"min\": 4.1739436619718315,\n        \"max\": 4.392139737991267,\n        \"num_unique_values\": 2,\n        \"samples\": [\n          4.1739436619718315,\n          4.392139737991267\n        ],\n        \"semantic_type\": \"\",\n        \"description\": \"\"\n      }\n    },\n    {\n      \"column\": \"YOLK _ALB_WEIGHT \",\n      \"properties\": {\n        \"dtype\": \"number\",\n        \"std\": 6.8995512534274654,\n        \"min\": 48.15915492957747,\n        \"max\": 57.91659388646288,\n        \"num_unique_values\": 2,\n        \"samples\": [\n          48.15915492957747,\n          57.91659388646288\n        ],\n        \"semantic_type\": \"\",\n        \"description\": \"\"\n      }\n    },\n    {\n      \"column\": \"SHELL_WEIGTH\",\n      \"properties\": {\n        \"dtype\": \"number\",\n        \"std\": 0.49644471479934554,\n        \"min\": 7.05774647887324,\n        \"max\": 7.759825327510917,\n        \"num_unique_values\": 2,\n        \"samples\": [\n          7.05774647887324,\n          7.759825327510917\n        ],\n        \"semantic_type\": \"\",\n        \"description\": \"\"\n      }\n    },\n    {\n      \"column\": \"SHELL_THICKNESS\",\n      \"properties\": {\n        \"dtype\": \"number\",\n        \"std\": 0.017934913924197052,\n        \"min\": 0.3170305676855895,\n        \"max\": 0.34239436619718305,\n        \"num_unique_values\": 2,\n        \"samples\": [\n          0.34239436619718305,\n          0.3170305676855895\n        ],\n        \"semantic_type\": \"\",\n        \"description\": \"\"\n      }\n    },\n    {\n      \"column\": \"Haugh Unit\",\n      \"properties\": {\n        \"dtype\": \"number\",\n        \"std\": 0.33106200795360113,\n        \"min\": 84.4286457952827,\n        \"max\": 84.89683817691716,\n        \"num_unique_values\": 2,\n        \"samples\": [\n          84.89683817691716,\n          84.4286457952827\n        ],\n        \"semantic_type\": \"\",\n        \"description\": \"\"\n      }\n    },\n    {\n      \"column\": \"Shell surface area\",\n      \"properties\": {\n        \"dtype\": \"number\",\n        \"std\": 5.856760109285977,\n        \"min\": 66.16117689073663,\n        \"max\": 74.44388646885459,\n        \"num_unique_values\": 2,\n        \"samples\": [\n          66.16117689073663,\n          74.44388646885459\n        ],\n        \"semantic_type\": \"\",\n        \"description\": \"\"\n      }\n    },\n    {\n      \"column\": \"Yolk Index\",\n      \"properties\": {\n        \"dtype\": \"number\",\n        \"std\": 0.4662929363344182,\n        \"min\": 47.85093103439256,\n        \"max\": 48.51036882899547,\n        \"num_unique_values\": 2,\n        \"samples\": [\n          48.51036882899547,\n          47.85093103439256\n        ],\n        \"semantic_type\": \"\",\n        \"description\": \"\"\n      }\n    },\n    {\n      \"column\": \"Shape Index\",\n      \"properties\": {\n        \"dtype\": \"number\",\n        \"std\": 2.0892293419050896,\n        \"min\": 74.85632498934089,\n        \"max\": 77.81094145957088,\n        \"num_unique_values\": 2,\n        \"samples\": [\n          77.81094145957088,\n          74.85632498934089\n        ],\n        \"semantic_type\": \"\",\n        \"description\": \"\"\n      }\n    }\n  ]\n}"
            }
          },
          "metadata": {},
          "execution_count": 5
        }
      ]
    },
    {
      "cell_type": "code",
      "source": [
        "Outcome_mapping = {'Small': 0, 'Large': 1}\n",
        "# Apply the mapping to the 'Outcome' column\n",
        "Egg_Traits['Outcome_Numeric'] = Egg_Traits['Outcome'].map(Outcome_mapping)\n",
        "# You can now use the 'Outcome_Numeric' column for calculations\n",
        "print(Egg_Traits.head())\n",
        "\n",
        "#0 is for Small\n",
        "#1 is for Large"
      ],
      "metadata": {
        "colab": {
          "base_uri": "https://localhost:8080/"
        },
        "id": "nRNv0RRzr3GV",
        "outputId": "8a031adc-1514-4f26-ec72-11cfd25577d8"
      },
      "execution_count": 6,
      "outputs": [
        {
          "output_type": "stream",
          "name": "stdout",
          "text": [
            "  STRAIN          AGE  EGG_WEIGHT   EGG_LENGTH  EGG_WIDTH YOLK_HEIGHT  \\\n",
            "0  BROWN  EARLY LAYER         52.5        5.75        4.0         1.8   \n",
            "1  BROWN  EARLY LAYER         62.6        5.70        4.3           2   \n",
            "2  BROWN  EARLY LAYER         61.0        5.50        4.3         1.8   \n",
            "3  BROWN  EARLY LAYER         64.1        5.70        4.4         1.9   \n",
            "4  BROWN  EARLY LAYER         53.9        5.60        4.0         2.2   \n",
            "\n",
            "  YOLK_WIDTH ALB_HEIGHT  YOLK _ALB_WEIGHT   SHELL_WEIGTH  SHELL_THICKNESS  \\\n",
            "0        4.1        0.7               48.0           5.9             0.27   \n",
            "1        4.2        0.8               54.8           7.7             0.35   \n",
            "2          4          1               53.5           7.5             0.35   \n",
            "3          4          1               55.7           7.4             0.29   \n",
            "4          4       0.65               46.0           7.0             0.39   \n",
            "\n",
            "   Haugh Unit  Shell surface area  Yolk Index  Shape Index Outcome  \\\n",
            "0   84.390042           63.770823   43.902439    69.565217   Small   \n",
            "1   84.416908           71.623566   47.619048    75.438596   Large   \n",
            "2   85.517341           70.410037   45.000000    78.181818   Large   \n",
            "3   85.373317           72.751706   47.500000    77.192982   Large   \n",
            "4   84.054650           64.888161   55.000000    71.428571   Small   \n",
            "\n",
            "   Outcome_Numeric  \n",
            "0                0  \n",
            "1                1  \n",
            "2                1  \n",
            "3                1  \n",
            "4                0  \n"
          ]
        }
      ]
    },
    {
      "cell_type": "markdown",
      "source": [
        "SEPERATING DATA AND LABELS"
      ],
      "metadata": {
        "id": "tqLBJncgmBoh"
      }
    },
    {
      "cell_type": "code",
      "source": [
        "X = Egg_Traits.drop(columns=[Egg_Traits.columns[2], 'STRAIN', 'AGE', 'Outcome', 'Outcome_Numeric'], axis=1)\n",
        "Y = Egg_Traits['Outcome_Numeric']\n",
        "print(X)\n",
        "print(Y)"
      ],
      "metadata": {
        "colab": {
          "base_uri": "https://localhost:8080/"
        },
        "id": "Zi_a7fqXmIxz",
        "outputId": "3d52c6c9-d269-4d61-a098-a2dd319c5167"
      },
      "execution_count": 7,
      "outputs": [
        {
          "output_type": "stream",
          "name": "stdout",
          "text": [
            "     EGG_LENGTH  EGG_WIDTH YOLK_HEIGHT YOLK_WIDTH ALB_HEIGHT  \\\n",
            "0          5.75       4.00         1.8        4.1        0.7   \n",
            "1          5.70       4.30           2        4.2        0.8   \n",
            "2          5.50       4.30         1.8          4          1   \n",
            "3          5.70       4.40         1.9          4          1   \n",
            "4          5.60       4.00         2.2          4       0.65   \n",
            "..          ...        ...         ...        ...        ...   \n",
            "295        5.30       4.15        1.85        3.9        0.8   \n",
            "296        5.65       4.25        2.05       3.95        0.8   \n",
            "297        5.70       4.30         1.9        3.8        0.9   \n",
            "298        5.60       4.20        1.75        3.8        0.8   \n",
            "299        6.10       4.20         1.8          4        0.8   \n",
            "\n",
            "     YOLK _ALB_WEIGHT   SHELL_WEIGTH  SHELL_THICKNESS  Haugh Unit  \\\n",
            "0                 48.0           5.9             0.27   84.390042   \n",
            "1                 54.8           7.7             0.35   84.416908   \n",
            "2                 53.5           7.5             0.35   85.517341   \n",
            "3                 55.7           7.4             0.29   85.373317   \n",
            "4                 46.0           7.0             0.39   84.054650   \n",
            "..                 ...           ...              ...         ...   \n",
            "295               48.8           6.7             0.31   84.769161   \n",
            "296               52.4           7.3             0.37   84.563153   \n",
            "297               52.4           8.7             0.35   85.040756   \n",
            "298               49.7           7.4             0.37   84.664969   \n",
            "299               55.3           7.4             0.31   84.375308   \n",
            "\n",
            "     Shell surface area  Yolk Index  Shape Index  \n",
            "0             63.770823   43.902439    69.565217  \n",
            "1             71.623566   47.619048    75.438596  \n",
            "2             70.410037   45.000000    78.181818  \n",
            "3             72.751706   47.500000    77.192982  \n",
            "4             64.888161   55.000000    71.428571  \n",
            "..                  ...         ...          ...  \n",
            "295           65.995674   47.435897    78.301887  \n",
            "296           69.262486   51.898734    75.221239  \n",
            "297           69.875722   50.000000    75.438596  \n",
            "298           67.639242   46.052632    75.000000  \n",
            "299           72.301539   45.000000    68.852459  \n",
            "\n",
            "[300 rows x 12 columns]\n",
            "0      0\n",
            "1      1\n",
            "2      1\n",
            "3      1\n",
            "4      0\n",
            "      ..\n",
            "295    0\n",
            "296    1\n",
            "297    1\n",
            "298    0\n",
            "299    1\n",
            "Name: Outcome_Numeric, Length: 300, dtype: int64\n"
          ]
        }
      ]
    },
    {
      "cell_type": "markdown",
      "source": [
        "SPLITTING INTO TRAINING AND TEST DATA\n",
        "\n",
        "TRANSFORMING DATA\n",
        "\n",
        "ELIMINATING MISSING DATA"
      ],
      "metadata": {
        "id": "dErcO_JenhC1"
      }
    },
    {
      "cell_type": "code",
      "source": [
        "# Replace hyphens with NaN in the entire dataset\n",
        "X = X.replace('-', np.nan)\n",
        "\n",
        "# Convert object columns to numeric, coercing errors to NaN\n",
        "for col in X.select_dtypes(include=['object']).columns:\n",
        "    X[col] = pd.to_numeric(X[col], errors='coerce')\n",
        "\n",
        "# Split data into training and testing sets\n",
        "X_train, X_test, Y_train, Y_test = train_test_split(X, Y, test_size=0.2, stratify=Y, random_state=2)\n",
        "\n",
        "# Imputation should be done after splitting\n",
        "imputer = SimpleImputer(strategy='mean')\n",
        "\n",
        "# Fit and transform on the training data\n",
        "X_train_imputed = imputer.fit_transform(X_train)\n",
        "\n",
        "# Transform the test data using the trained imputer\n",
        "X_test_imputed = imputer.transform(X_test)\n",
        "\n",
        "# Create new DataFrames with the imputed values and original indices\n",
        "X_train = pd.DataFrame(X_train_imputed, columns=X_train.columns, index=X_train.index)\n",
        "X_test = pd.DataFrame(X_test_imputed, columns=X_test.columns, index=X_test.index)"
      ],
      "metadata": {
        "id": "ClQR4F6VuFid",
        "colab": {
          "base_uri": "https://localhost:8080/"
        },
        "outputId": "f5b914f4-86e4-4cd3-93ae-8201d253ad22"
      },
      "execution_count": 8,
      "outputs": [
        {
          "output_type": "stream",
          "name": "stderr",
          "text": [
            "/tmp/ipython-input-8-1787726750.py:2: FutureWarning: Downcasting behavior in `replace` is deprecated and will be removed in a future version. To retain the old behavior, explicitly call `result.infer_objects(copy=False)`. To opt-in to the future behavior, set `pd.set_option('future.no_silent_downcasting', True)`\n",
            "  X = X.replace('-', np.nan)\n"
          ]
        }
      ]
    },
    {
      "cell_type": "code",
      "source": [
        "print(X.shape, X_train.shape, X_test.shape)"
      ],
      "metadata": {
        "colab": {
          "base_uri": "https://localhost:8080/"
        },
        "id": "Uy4LkrDhnuTf",
        "outputId": "a94b289a-92e7-4286-a751-95edaaace405"
      },
      "execution_count": 9,
      "outputs": [
        {
          "output_type": "stream",
          "name": "stdout",
          "text": [
            "(300, 12) (240, 12) (60, 12)\n"
          ]
        }
      ]
    },
    {
      "cell_type": "markdown",
      "source": [
        "MODEL TRAINING (LOGISTIC REGRESSION)"
      ],
      "metadata": {
        "id": "fQ50YKbcoixB"
      }
    },
    {
      "cell_type": "code",
      "source": [
        "model = LogisticRegression(max_iter=1000)\n",
        "model.fit(X_train, Y_train)"
      ],
      "metadata": {
        "colab": {
          "base_uri": "https://localhost:8080/",
          "height": 80
        },
        "id": "jMe3q3xpooS8",
        "outputId": "e49ba239-625e-4f7a-f56e-661454b0947d"
      },
      "execution_count": 10,
      "outputs": [
        {
          "output_type": "execute_result",
          "data": {
            "text/plain": [
              "LogisticRegression(max_iter=1000)"
            ],
            "text/html": [
              "<style>#sk-container-id-1 {\n",
              "  /* Definition of color scheme common for light and dark mode */\n",
              "  --sklearn-color-text: #000;\n",
              "  --sklearn-color-text-muted: #666;\n",
              "  --sklearn-color-line: gray;\n",
              "  /* Definition of color scheme for unfitted estimators */\n",
              "  --sklearn-color-unfitted-level-0: #fff5e6;\n",
              "  --sklearn-color-unfitted-level-1: #f6e4d2;\n",
              "  --sklearn-color-unfitted-level-2: #ffe0b3;\n",
              "  --sklearn-color-unfitted-level-3: chocolate;\n",
              "  /* Definition of color scheme for fitted estimators */\n",
              "  --sklearn-color-fitted-level-0: #f0f8ff;\n",
              "  --sklearn-color-fitted-level-1: #d4ebff;\n",
              "  --sklearn-color-fitted-level-2: #b3dbfd;\n",
              "  --sklearn-color-fitted-level-3: cornflowerblue;\n",
              "\n",
              "  /* Specific color for light theme */\n",
              "  --sklearn-color-text-on-default-background: var(--sg-text-color, var(--theme-code-foreground, var(--jp-content-font-color1, black)));\n",
              "  --sklearn-color-background: var(--sg-background-color, var(--theme-background, var(--jp-layout-color0, white)));\n",
              "  --sklearn-color-border-box: var(--sg-text-color, var(--theme-code-foreground, var(--jp-content-font-color1, black)));\n",
              "  --sklearn-color-icon: #696969;\n",
              "\n",
              "  @media (prefers-color-scheme: dark) {\n",
              "    /* Redefinition of color scheme for dark theme */\n",
              "    --sklearn-color-text-on-default-background: var(--sg-text-color, var(--theme-code-foreground, var(--jp-content-font-color1, white)));\n",
              "    --sklearn-color-background: var(--sg-background-color, var(--theme-background, var(--jp-layout-color0, #111)));\n",
              "    --sklearn-color-border-box: var(--sg-text-color, var(--theme-code-foreground, var(--jp-content-font-color1, white)));\n",
              "    --sklearn-color-icon: #878787;\n",
              "  }\n",
              "}\n",
              "\n",
              "#sk-container-id-1 {\n",
              "  color: var(--sklearn-color-text);\n",
              "}\n",
              "\n",
              "#sk-container-id-1 pre {\n",
              "  padding: 0;\n",
              "}\n",
              "\n",
              "#sk-container-id-1 input.sk-hidden--visually {\n",
              "  border: 0;\n",
              "  clip: rect(1px 1px 1px 1px);\n",
              "  clip: rect(1px, 1px, 1px, 1px);\n",
              "  height: 1px;\n",
              "  margin: -1px;\n",
              "  overflow: hidden;\n",
              "  padding: 0;\n",
              "  position: absolute;\n",
              "  width: 1px;\n",
              "}\n",
              "\n",
              "#sk-container-id-1 div.sk-dashed-wrapped {\n",
              "  border: 1px dashed var(--sklearn-color-line);\n",
              "  margin: 0 0.4em 0.5em 0.4em;\n",
              "  box-sizing: border-box;\n",
              "  padding-bottom: 0.4em;\n",
              "  background-color: var(--sklearn-color-background);\n",
              "}\n",
              "\n",
              "#sk-container-id-1 div.sk-container {\n",
              "  /* jupyter's `normalize.less` sets `[hidden] { display: none; }`\n",
              "     but bootstrap.min.css set `[hidden] { display: none !important; }`\n",
              "     so we also need the `!important` here to be able to override the\n",
              "     default hidden behavior on the sphinx rendered scikit-learn.org.\n",
              "     See: https://github.com/scikit-learn/scikit-learn/issues/21755 */\n",
              "  display: inline-block !important;\n",
              "  position: relative;\n",
              "}\n",
              "\n",
              "#sk-container-id-1 div.sk-text-repr-fallback {\n",
              "  display: none;\n",
              "}\n",
              "\n",
              "div.sk-parallel-item,\n",
              "div.sk-serial,\n",
              "div.sk-item {\n",
              "  /* draw centered vertical line to link estimators */\n",
              "  background-image: linear-gradient(var(--sklearn-color-text-on-default-background), var(--sklearn-color-text-on-default-background));\n",
              "  background-size: 2px 100%;\n",
              "  background-repeat: no-repeat;\n",
              "  background-position: center center;\n",
              "}\n",
              "\n",
              "/* Parallel-specific style estimator block */\n",
              "\n",
              "#sk-container-id-1 div.sk-parallel-item::after {\n",
              "  content: \"\";\n",
              "  width: 100%;\n",
              "  border-bottom: 2px solid var(--sklearn-color-text-on-default-background);\n",
              "  flex-grow: 1;\n",
              "}\n",
              "\n",
              "#sk-container-id-1 div.sk-parallel {\n",
              "  display: flex;\n",
              "  align-items: stretch;\n",
              "  justify-content: center;\n",
              "  background-color: var(--sklearn-color-background);\n",
              "  position: relative;\n",
              "}\n",
              "\n",
              "#sk-container-id-1 div.sk-parallel-item {\n",
              "  display: flex;\n",
              "  flex-direction: column;\n",
              "}\n",
              "\n",
              "#sk-container-id-1 div.sk-parallel-item:first-child::after {\n",
              "  align-self: flex-end;\n",
              "  width: 50%;\n",
              "}\n",
              "\n",
              "#sk-container-id-1 div.sk-parallel-item:last-child::after {\n",
              "  align-self: flex-start;\n",
              "  width: 50%;\n",
              "}\n",
              "\n",
              "#sk-container-id-1 div.sk-parallel-item:only-child::after {\n",
              "  width: 0;\n",
              "}\n",
              "\n",
              "/* Serial-specific style estimator block */\n",
              "\n",
              "#sk-container-id-1 div.sk-serial {\n",
              "  display: flex;\n",
              "  flex-direction: column;\n",
              "  align-items: center;\n",
              "  background-color: var(--sklearn-color-background);\n",
              "  padding-right: 1em;\n",
              "  padding-left: 1em;\n",
              "}\n",
              "\n",
              "\n",
              "/* Toggleable style: style used for estimator/Pipeline/ColumnTransformer box that is\n",
              "clickable and can be expanded/collapsed.\n",
              "- Pipeline and ColumnTransformer use this feature and define the default style\n",
              "- Estimators will overwrite some part of the style using the `sk-estimator` class\n",
              "*/\n",
              "\n",
              "/* Pipeline and ColumnTransformer style (default) */\n",
              "\n",
              "#sk-container-id-1 div.sk-toggleable {\n",
              "  /* Default theme specific background. It is overwritten whether we have a\n",
              "  specific estimator or a Pipeline/ColumnTransformer */\n",
              "  background-color: var(--sklearn-color-background);\n",
              "}\n",
              "\n",
              "/* Toggleable label */\n",
              "#sk-container-id-1 label.sk-toggleable__label {\n",
              "  cursor: pointer;\n",
              "  display: flex;\n",
              "  width: 100%;\n",
              "  margin-bottom: 0;\n",
              "  padding: 0.5em;\n",
              "  box-sizing: border-box;\n",
              "  text-align: center;\n",
              "  align-items: start;\n",
              "  justify-content: space-between;\n",
              "  gap: 0.5em;\n",
              "}\n",
              "\n",
              "#sk-container-id-1 label.sk-toggleable__label .caption {\n",
              "  font-size: 0.6rem;\n",
              "  font-weight: lighter;\n",
              "  color: var(--sklearn-color-text-muted);\n",
              "}\n",
              "\n",
              "#sk-container-id-1 label.sk-toggleable__label-arrow:before {\n",
              "  /* Arrow on the left of the label */\n",
              "  content: \"▸\";\n",
              "  float: left;\n",
              "  margin-right: 0.25em;\n",
              "  color: var(--sklearn-color-icon);\n",
              "}\n",
              "\n",
              "#sk-container-id-1 label.sk-toggleable__label-arrow:hover:before {\n",
              "  color: var(--sklearn-color-text);\n",
              "}\n",
              "\n",
              "/* Toggleable content - dropdown */\n",
              "\n",
              "#sk-container-id-1 div.sk-toggleable__content {\n",
              "  max-height: 0;\n",
              "  max-width: 0;\n",
              "  overflow: hidden;\n",
              "  text-align: left;\n",
              "  /* unfitted */\n",
              "  background-color: var(--sklearn-color-unfitted-level-0);\n",
              "}\n",
              "\n",
              "#sk-container-id-1 div.sk-toggleable__content.fitted {\n",
              "  /* fitted */\n",
              "  background-color: var(--sklearn-color-fitted-level-0);\n",
              "}\n",
              "\n",
              "#sk-container-id-1 div.sk-toggleable__content pre {\n",
              "  margin: 0.2em;\n",
              "  border-radius: 0.25em;\n",
              "  color: var(--sklearn-color-text);\n",
              "  /* unfitted */\n",
              "  background-color: var(--sklearn-color-unfitted-level-0);\n",
              "}\n",
              "\n",
              "#sk-container-id-1 div.sk-toggleable__content.fitted pre {\n",
              "  /* unfitted */\n",
              "  background-color: var(--sklearn-color-fitted-level-0);\n",
              "}\n",
              "\n",
              "#sk-container-id-1 input.sk-toggleable__control:checked~div.sk-toggleable__content {\n",
              "  /* Expand drop-down */\n",
              "  max-height: 200px;\n",
              "  max-width: 100%;\n",
              "  overflow: auto;\n",
              "}\n",
              "\n",
              "#sk-container-id-1 input.sk-toggleable__control:checked~label.sk-toggleable__label-arrow:before {\n",
              "  content: \"▾\";\n",
              "}\n",
              "\n",
              "/* Pipeline/ColumnTransformer-specific style */\n",
              "\n",
              "#sk-container-id-1 div.sk-label input.sk-toggleable__control:checked~label.sk-toggleable__label {\n",
              "  color: var(--sklearn-color-text);\n",
              "  background-color: var(--sklearn-color-unfitted-level-2);\n",
              "}\n",
              "\n",
              "#sk-container-id-1 div.sk-label.fitted input.sk-toggleable__control:checked~label.sk-toggleable__label {\n",
              "  background-color: var(--sklearn-color-fitted-level-2);\n",
              "}\n",
              "\n",
              "/* Estimator-specific style */\n",
              "\n",
              "/* Colorize estimator box */\n",
              "#sk-container-id-1 div.sk-estimator input.sk-toggleable__control:checked~label.sk-toggleable__label {\n",
              "  /* unfitted */\n",
              "  background-color: var(--sklearn-color-unfitted-level-2);\n",
              "}\n",
              "\n",
              "#sk-container-id-1 div.sk-estimator.fitted input.sk-toggleable__control:checked~label.sk-toggleable__label {\n",
              "  /* fitted */\n",
              "  background-color: var(--sklearn-color-fitted-level-2);\n",
              "}\n",
              "\n",
              "#sk-container-id-1 div.sk-label label.sk-toggleable__label,\n",
              "#sk-container-id-1 div.sk-label label {\n",
              "  /* The background is the default theme color */\n",
              "  color: var(--sklearn-color-text-on-default-background);\n",
              "}\n",
              "\n",
              "/* On hover, darken the color of the background */\n",
              "#sk-container-id-1 div.sk-label:hover label.sk-toggleable__label {\n",
              "  color: var(--sklearn-color-text);\n",
              "  background-color: var(--sklearn-color-unfitted-level-2);\n",
              "}\n",
              "\n",
              "/* Label box, darken color on hover, fitted */\n",
              "#sk-container-id-1 div.sk-label.fitted:hover label.sk-toggleable__label.fitted {\n",
              "  color: var(--sklearn-color-text);\n",
              "  background-color: var(--sklearn-color-fitted-level-2);\n",
              "}\n",
              "\n",
              "/* Estimator label */\n",
              "\n",
              "#sk-container-id-1 div.sk-label label {\n",
              "  font-family: monospace;\n",
              "  font-weight: bold;\n",
              "  display: inline-block;\n",
              "  line-height: 1.2em;\n",
              "}\n",
              "\n",
              "#sk-container-id-1 div.sk-label-container {\n",
              "  text-align: center;\n",
              "}\n",
              "\n",
              "/* Estimator-specific */\n",
              "#sk-container-id-1 div.sk-estimator {\n",
              "  font-family: monospace;\n",
              "  border: 1px dotted var(--sklearn-color-border-box);\n",
              "  border-radius: 0.25em;\n",
              "  box-sizing: border-box;\n",
              "  margin-bottom: 0.5em;\n",
              "  /* unfitted */\n",
              "  background-color: var(--sklearn-color-unfitted-level-0);\n",
              "}\n",
              "\n",
              "#sk-container-id-1 div.sk-estimator.fitted {\n",
              "  /* fitted */\n",
              "  background-color: var(--sklearn-color-fitted-level-0);\n",
              "}\n",
              "\n",
              "/* on hover */\n",
              "#sk-container-id-1 div.sk-estimator:hover {\n",
              "  /* unfitted */\n",
              "  background-color: var(--sklearn-color-unfitted-level-2);\n",
              "}\n",
              "\n",
              "#sk-container-id-1 div.sk-estimator.fitted:hover {\n",
              "  /* fitted */\n",
              "  background-color: var(--sklearn-color-fitted-level-2);\n",
              "}\n",
              "\n",
              "/* Specification for estimator info (e.g. \"i\" and \"?\") */\n",
              "\n",
              "/* Common style for \"i\" and \"?\" */\n",
              "\n",
              ".sk-estimator-doc-link,\n",
              "a:link.sk-estimator-doc-link,\n",
              "a:visited.sk-estimator-doc-link {\n",
              "  float: right;\n",
              "  font-size: smaller;\n",
              "  line-height: 1em;\n",
              "  font-family: monospace;\n",
              "  background-color: var(--sklearn-color-background);\n",
              "  border-radius: 1em;\n",
              "  height: 1em;\n",
              "  width: 1em;\n",
              "  text-decoration: none !important;\n",
              "  margin-left: 0.5em;\n",
              "  text-align: center;\n",
              "  /* unfitted */\n",
              "  border: var(--sklearn-color-unfitted-level-1) 1pt solid;\n",
              "  color: var(--sklearn-color-unfitted-level-1);\n",
              "}\n",
              "\n",
              ".sk-estimator-doc-link.fitted,\n",
              "a:link.sk-estimator-doc-link.fitted,\n",
              "a:visited.sk-estimator-doc-link.fitted {\n",
              "  /* fitted */\n",
              "  border: var(--sklearn-color-fitted-level-1) 1pt solid;\n",
              "  color: var(--sklearn-color-fitted-level-1);\n",
              "}\n",
              "\n",
              "/* On hover */\n",
              "div.sk-estimator:hover .sk-estimator-doc-link:hover,\n",
              ".sk-estimator-doc-link:hover,\n",
              "div.sk-label-container:hover .sk-estimator-doc-link:hover,\n",
              ".sk-estimator-doc-link:hover {\n",
              "  /* unfitted */\n",
              "  background-color: var(--sklearn-color-unfitted-level-3);\n",
              "  color: var(--sklearn-color-background);\n",
              "  text-decoration: none;\n",
              "}\n",
              "\n",
              "div.sk-estimator.fitted:hover .sk-estimator-doc-link.fitted:hover,\n",
              ".sk-estimator-doc-link.fitted:hover,\n",
              "div.sk-label-container:hover .sk-estimator-doc-link.fitted:hover,\n",
              ".sk-estimator-doc-link.fitted:hover {\n",
              "  /* fitted */\n",
              "  background-color: var(--sklearn-color-fitted-level-3);\n",
              "  color: var(--sklearn-color-background);\n",
              "  text-decoration: none;\n",
              "}\n",
              "\n",
              "/* Span, style for the box shown on hovering the info icon */\n",
              ".sk-estimator-doc-link span {\n",
              "  display: none;\n",
              "  z-index: 9999;\n",
              "  position: relative;\n",
              "  font-weight: normal;\n",
              "  right: .2ex;\n",
              "  padding: .5ex;\n",
              "  margin: .5ex;\n",
              "  width: min-content;\n",
              "  min-width: 20ex;\n",
              "  max-width: 50ex;\n",
              "  color: var(--sklearn-color-text);\n",
              "  box-shadow: 2pt 2pt 4pt #999;\n",
              "  /* unfitted */\n",
              "  background: var(--sklearn-color-unfitted-level-0);\n",
              "  border: .5pt solid var(--sklearn-color-unfitted-level-3);\n",
              "}\n",
              "\n",
              ".sk-estimator-doc-link.fitted span {\n",
              "  /* fitted */\n",
              "  background: var(--sklearn-color-fitted-level-0);\n",
              "  border: var(--sklearn-color-fitted-level-3);\n",
              "}\n",
              "\n",
              ".sk-estimator-doc-link:hover span {\n",
              "  display: block;\n",
              "}\n",
              "\n",
              "/* \"?\"-specific style due to the `<a>` HTML tag */\n",
              "\n",
              "#sk-container-id-1 a.estimator_doc_link {\n",
              "  float: right;\n",
              "  font-size: 1rem;\n",
              "  line-height: 1em;\n",
              "  font-family: monospace;\n",
              "  background-color: var(--sklearn-color-background);\n",
              "  border-radius: 1rem;\n",
              "  height: 1rem;\n",
              "  width: 1rem;\n",
              "  text-decoration: none;\n",
              "  /* unfitted */\n",
              "  color: var(--sklearn-color-unfitted-level-1);\n",
              "  border: var(--sklearn-color-unfitted-level-1) 1pt solid;\n",
              "}\n",
              "\n",
              "#sk-container-id-1 a.estimator_doc_link.fitted {\n",
              "  /* fitted */\n",
              "  border: var(--sklearn-color-fitted-level-1) 1pt solid;\n",
              "  color: var(--sklearn-color-fitted-level-1);\n",
              "}\n",
              "\n",
              "/* On hover */\n",
              "#sk-container-id-1 a.estimator_doc_link:hover {\n",
              "  /* unfitted */\n",
              "  background-color: var(--sklearn-color-unfitted-level-3);\n",
              "  color: var(--sklearn-color-background);\n",
              "  text-decoration: none;\n",
              "}\n",
              "\n",
              "#sk-container-id-1 a.estimator_doc_link.fitted:hover {\n",
              "  /* fitted */\n",
              "  background-color: var(--sklearn-color-fitted-level-3);\n",
              "}\n",
              "</style><div id=\"sk-container-id-1\" class=\"sk-top-container\"><div class=\"sk-text-repr-fallback\"><pre>LogisticRegression(max_iter=1000)</pre><b>In a Jupyter environment, please rerun this cell to show the HTML representation or trust the notebook. <br />On GitHub, the HTML representation is unable to render, please try loading this page with nbviewer.org.</b></div><div class=\"sk-container\" hidden><div class=\"sk-item\"><div class=\"sk-estimator fitted sk-toggleable\"><input class=\"sk-toggleable__control sk-hidden--visually\" id=\"sk-estimator-id-1\" type=\"checkbox\" checked><label for=\"sk-estimator-id-1\" class=\"sk-toggleable__label fitted sk-toggleable__label-arrow\"><div><div>LogisticRegression</div></div><div><a class=\"sk-estimator-doc-link fitted\" rel=\"noreferrer\" target=\"_blank\" href=\"https://scikit-learn.org/1.6/modules/generated/sklearn.linear_model.LogisticRegression.html\">?<span>Documentation for LogisticRegression</span></a><span class=\"sk-estimator-doc-link fitted\">i<span>Fitted</span></span></div></label><div class=\"sk-toggleable__content fitted\"><pre>LogisticRegression(max_iter=1000)</pre></div> </div></div></div></div>"
            ]
          },
          "metadata": {},
          "execution_count": 10
        }
      ]
    },
    {
      "cell_type": "markdown",
      "source": [
        "MAKING A PREDICTION"
      ],
      "metadata": {
        "id": "vrr7pCTOMo2n"
      }
    },
    {
      "cell_type": "code",
      "metadata": {
        "colab": {
          "base_uri": "https://localhost:8080/"
        },
        "id": "0fa5fd50",
        "outputId": "9e41de09-df76-4aa4-d310-e7e3465a9feb"
      },
      "source": [
        "\"\"\"Features to be inputed are:\n",
        "Egg length, Egg width,\n",
        "Yolk height, Yolk width,\n",
        "Albumin height, Yolk albumin weight,\n",
        "Shell weight, Shell thickness,\n",
        "Haugh unit, Shell surface area,\n",
        "Yolk index, Shape index) accordingly\"\"\"\n",
        "\n",
        "\n",
        "\n",
        "# Input data for prediction\n",
        "EGG_data = (5.6, 4.1, 1.9, 4.1, 0.7, 44.6, 7.3, 0.27, 84.4, 63.9, 46.3, 73.2)\n",
        "# Changing the egg data to numpy array\n",
        "EGG_data_as_numpy_array = np.asarray(EGG_data)\n",
        "# Reshape the array for a single prediction\n",
        "EGG_data_reshaped = EGG_data_as_numpy_array.reshape(1, -1)\n",
        "\n",
        "print(\"Prediction using Logistic Regression:\")\n",
        "prediction_lr = model.predict(EGG_data_reshaped)\n",
        "print(prediction_lr)\n",
        "\n",
        "if (prediction_lr[0] == 0):\n",
        "  print('This egg is predicted as Small by Logistic Regression')\n",
        "else:\n",
        "  print('This egg is predicted as Large by Logistic Regression')"
      ],
      "execution_count": 11,
      "outputs": [
        {
          "output_type": "stream",
          "name": "stdout",
          "text": [
            "Prediction using Logistic Regression:\n",
            "[0]\n",
            "This egg is predicted as Small by Logistic Regression\n"
          ]
        },
        {
          "output_type": "stream",
          "name": "stderr",
          "text": [
            "/usr/local/lib/python3.11/dist-packages/sklearn/utils/validation.py:2739: UserWarning: X does not have valid feature names, but LogisticRegression was fitted with feature names\n",
            "  warnings.warn(\n"
          ]
        }
      ]
    },
    {
      "cell_type": "markdown",
      "metadata": {
        "id": "4c6ede6a"
      },
      "source": [
        "PERFORMANCE METRICS (LOGISTIC REGRESSION)"
      ]
    },
    {
      "cell_type": "code",
      "metadata": {
        "colab": {
          "base_uri": "https://localhost:8080/"
        },
        "id": "0af29058",
        "outputId": "9557dd1e-46d6-4d3f-c850-5f058cde7b7a"
      },
      "source": [
        "from sklearn.metrics import accuracy_score, precision_score, recall_score, f1_score, mean_squared_error, r2_score, classification_report\n",
        "\n",
        "# Predictions on the test data\n",
        "y_pred_lr = model.predict(X_test)\n",
        "\n",
        "# Classification Metrics\n",
        "accuracy_lr = accuracy_score(Y_test, y_pred_lr)\n",
        "precision_lr = precision_score(Y_test, y_pred_lr)\n",
        "recall_lr = recall_score(Y_test, y_pred_lr)\n",
        "f1_lr = f1_score(Y_test, y_pred_lr)\n",
        "\n",
        "print(f\"Logistic Regression Accuracy: {accuracy_lr}\")\n",
        "print(f\"Logistic Regression Precision: {precision_lr}\")\n",
        "print(f\"Logistic Regression Recall: {recall_lr}\")\n",
        "print(f\"Logistic Regression F1-score: {f1_lr}\")\n",
        "\n",
        "# Although not typical for classification\n",
        "mse_lr = mean_squared_error(Y_test, y_pred_lr)\n",
        "r2_lr = r2_score(Y_test, y_pred_lr)\n",
        "print(f\"Logistic Regression Mean Squared Error: {mse_lr}\")\n",
        "print(f\"Logistic Regression R-squared: {r2_lr}\")\n",
        "\n",
        "print(\"\\nLogistic Regression Classification Report:\")\n",
        "print(classification_report(Y_test, y_pred_lr))"
      ],
      "execution_count": 13,
      "outputs": [
        {
          "output_type": "stream",
          "name": "stdout",
          "text": [
            "Logistic Regression Accuracy: 0.95\n",
            "Logistic Regression Precision: 1.0\n",
            "Logistic Regression Recall: 0.9347826086956522\n",
            "Logistic Regression F1-score: 0.9662921348314607\n",
            "Logistic Regression Mean Squared Error: 0.05\n",
            "Logistic Regression R-squared: 0.7204968944099378\n",
            "\n",
            "Logistic Regression Classification Report:\n",
            "              precision    recall  f1-score   support\n",
            "\n",
            "           0       0.82      1.00      0.90        14\n",
            "           1       1.00      0.93      0.97        46\n",
            "\n",
            "    accuracy                           0.95        60\n",
            "   macro avg       0.91      0.97      0.93        60\n",
            "weighted avg       0.96      0.95      0.95        60\n",
            "\n"
          ]
        }
      ]
    },
    {
      "cell_type": "markdown",
      "source": [
        "RANDOM FOREST MODEL"
      ],
      "metadata": {
        "id": "c8PZ-LHNSPzz"
      }
    },
    {
      "cell_type": "code",
      "source": [
        "from sklearn.ensemble import RandomForestClassifier\n",
        "from sklearn.metrics import accuracy_score, precision_score, recall_score, f1_score, confusion_matrix, classification_report, ConfusionMatrixDisplay\n",
        "from sklearn.model_selection import RandomizedSearchCV, train_test_split\n",
        "\n",
        "rf = RandomForestClassifier(random_state=42)\n",
        "rf.fit(X_train, Y_train)\n",
        "\n",
        "# Make predictions on the test set\n",
        "y_pred = rf.predict(X_test)\n",
        "y_pred\n"
      ],
      "metadata": {
        "id": "_6SW4afKSTyf",
        "outputId": "55e0d973-034e-4cd4-c1ab-8bbb36c0561d",
        "colab": {
          "base_uri": "https://localhost:8080/"
        }
      },
      "execution_count": 14,
      "outputs": [
        {
          "output_type": "execute_result",
          "data": {
            "text/plain": [
              "array([1, 1, 1, 0, 1, 1, 1, 1, 1, 1, 1, 1, 0, 0, 1, 1, 1, 1, 1, 1, 1, 1,\n",
              "       1, 1, 1, 1, 1, 0, 1, 1, 1, 0, 1, 0, 1, 0, 1, 0, 1, 1, 1, 0, 1, 1,\n",
              "       0, 1, 1, 0, 1, 0, 0, 1, 0, 1, 1, 0, 1, 1, 1, 1])"
            ]
          },
          "metadata": {},
          "execution_count": 14
        }
      ]
    },
    {
      "cell_type": "markdown",
      "source": [
        "MAKING A PREDICTION"
      ],
      "metadata": {
        "id": "n9Aq6ty8RPAq"
      }
    },
    {
      "cell_type": "code",
      "metadata": {
        "colab": {
          "base_uri": "https://localhost:8080/"
        },
        "id": "c26fcb1a",
        "outputId": "b81c1dbc-4d8a-4c23-96c1-ad09b336f45c"
      },
      "source": [
        "\"\"\"Features to be inputed are:\n",
        "Egg length, Egg width,\n",
        "Yolk height, Yolk width,\n",
        "Albumin height, Yolk albumin weight,\n",
        "Shell weight, Shell thickness,\n",
        "Haugh unit, Shell surface area,\n",
        "Yolk index, Shape index) accordingly\"\"\"\n",
        "\n",
        "# Input data for prediction\n",
        "EGG_data = (5.6, 4.1, 1.9, 4.1, 0.7, 44.6, 7.3, 0.27, 84.4, 63.9, 46.3, 73.2)\n",
        "# Changing the egg data to numpy array\n",
        "EGG_data_as_numpy_array = np.asarray(EGG_data)\n",
        "# Reshape the array for a single prediction\n",
        "EGG_data_reshaped = EGG_data_as_numpy_array.reshape(1, -1)\n",
        "\n",
        "print(\"\\nPrediction using Random Forest:\")\n",
        "single_prediction_rf = rf.predict(EGG_data_reshaped)\n",
        "print(single_prediction_rf)\n",
        "\n",
        "if single_prediction_rf[0] == 0:\n",
        "    print('This egg is predicted as Small by Random Forest')\n",
        "else:\n",
        "    print('This egg is predicted as Large by Random Forest')"
      ],
      "execution_count": 15,
      "outputs": [
        {
          "output_type": "stream",
          "name": "stdout",
          "text": [
            "\n",
            "Prediction using Random Forest:\n",
            "[0]\n",
            "This egg is predicted as Small by Random Forest\n"
          ]
        },
        {
          "output_type": "stream",
          "name": "stderr",
          "text": [
            "/usr/local/lib/python3.11/dist-packages/sklearn/utils/validation.py:2739: UserWarning: X does not have valid feature names, but RandomForestClassifier was fitted with feature names\n",
            "  warnings.warn(\n"
          ]
        }
      ]
    },
    {
      "cell_type": "markdown",
      "metadata": {
        "id": "a9557290"
      },
      "source": [
        "PERFORMANCE METRICS (RANDOM FOREST)"
      ]
    },
    {
      "cell_type": "code",
      "metadata": {
        "colab": {
          "base_uri": "https://localhost:8080/"
        },
        "id": "e4af4cf8",
        "outputId": "fa9d1987-9e9f-47e5-ddb9-5ab36494c55e"
      },
      "source": [
        "from sklearn.metrics import accuracy_score, precision_score, recall_score, f1_score, mean_squared_error, r2_score\n",
        "\n",
        "# Predictions on the test data\n",
        "y_pred_rf = rf.predict(X_test)\n",
        "\n",
        "# Classification Metrics\n",
        "accuracy_rf = accuracy_score(Y_test, y_pred_rf)\n",
        "precision_rf = precision_score(Y_test, y_pred_rf)\n",
        "recall_rf = recall_score(Y_test, y_pred_rf)\n",
        "f1_rf = f1_score(Y_test, y_pred_rf)\n",
        "\n",
        "print(f\"Random Forest Accuracy: {accuracy_rf}\")\n",
        "print(f\"Random Forest Precision: {precision_rf}\")\n",
        "print(f\"Random Forest Recall: {recall_rf}\")\n",
        "print(f\"Random Forest F1-score: {f1_rf}\")\n",
        "\n",
        "# Although not typical for classification\n",
        "mse_rf = mean_squared_error(Y_test, y_pred_rf)\n",
        "r2_rf = r2_score(Y_test, y_pred_rf)\n",
        "print(f\"Random Forest Mean Squared Error: {mse_rf}\")\n",
        "print(f\"Random Forest R-squared: {r2_rf}\")\n",
        "\n",
        "\n",
        "print(\"\\nRandom Forest Classification Report:\")\n",
        "print(classification_report(Y_test, y_pred_rf))"
      ],
      "execution_count": 16,
      "outputs": [
        {
          "output_type": "stream",
          "name": "stdout",
          "text": [
            "Random Forest Accuracy: 0.9833333333333333\n",
            "Random Forest Precision: 1.0\n",
            "Random Forest Recall: 0.9782608695652174\n",
            "Random Forest F1-score: 0.989010989010989\n",
            "Random Forest Mean Squared Error: 0.016666666666666666\n",
            "Random Forest R-squared: 0.9068322981366459\n",
            "\n",
            "Random Forest Classification Report:\n",
            "              precision    recall  f1-score   support\n",
            "\n",
            "           0       0.93      1.00      0.97        14\n",
            "           1       1.00      0.98      0.99        46\n",
            "\n",
            "    accuracy                           0.98        60\n",
            "   macro avg       0.97      0.99      0.98        60\n",
            "weighted avg       0.98      0.98      0.98        60\n",
            "\n"
          ]
        }
      ]
    },
    {
      "cell_type": "markdown",
      "source": [
        "DECISION TREE FOR RF MODEL"
      ],
      "metadata": {
        "id": "eFbj-q01Qkcc"
      }
    },
    {
      "cell_type": "code",
      "source": [
        "from sklearn.tree import plot_tree\n",
        "import matplotlib.pyplot as plt\n",
        "def plot_decision_tree(tree, tree_name):\n",
        "    plot_tree(tree, filled = True, feature_names = X_train.columns, class_names = True)\n",
        "    plt.title(f\"Decision Tree: {tree_name}\")\n",
        "    plt.show()\n",
        "\n",
        "for i in range(5):\n",
        "    tree = rf.estimators_[i]\n",
        "    plot_decision_tree(tree, f\"Tree {i + 1}\")\n"
      ],
      "metadata": {
        "id": "uWwdH87dUCmZ",
        "colab": {
          "base_uri": "https://localhost:8080/",
          "height": 1000
        },
        "outputId": "db38d7e6-24b0-490a-f5d5-6975ece83123"
      },
      "execution_count": 17,
      "outputs": [
        {
          "output_type": "display_data",
          "data": {
            "text/plain": [
              "<Figure size 640x480 with 1 Axes>"
            ],
            "image/png": "[encoded data removed]"
          },
          "metadata": {}
        },
        {
          "output_type": "display_data",
          "data": {
            "text/plain": [
              "<Figure size 640x480 with 1 Axes>"
            ],
            "image/png": "[encoded data removed]"
          },
          "metadata": {}
        },
        {
          "output_type": "display_data",
          "data": {
            "text/plain": [
              "<Figure size 640x480 with 1 Axes>"
            ],
            "image/png": "[encoded data removed]"
          },
          "metadata": {}
        },
        {
          "output_type": "display_data",
          "data": {
            "text/plain": [
              "<Figure size 640x480 with 1 Axes>"
            ],
            "image/png": "[encoded data removed]"
          },
          "metadata": {}
        },
        {
          "output_type": "display_data",
          "data": {
            "text/plain": [
              "<Figure size 640x480 with 1 Axes>"
            ],
            "image/png": "[encoded data removed]"
          },
          "metadata": {}
        }
      ]
    },
    {
      "cell_type": "markdown",
      "source": [
        "LINEAR REGRESSION MODEL"
      ],
      "metadata": {
        "id": "ypf9NIB6W8Fp"
      }
    },
    {
      "cell_type": "code",
      "source": [
        "from sklearn.linear_model import LinearRegression\n",
        "from sklearn.metrics import mean_squared_error, r2_score\n",
        "lm = LinearRegression()\n",
        "lm.fit(X_train, Y_train)\n",
        "\n",
        "# Make predictions on the test set using the Linear Regression model\n",
        "y_pred_lm = lm.predict(X_test)\n",
        "\n"
      ],
      "metadata": {
        "id": "8kgyw5cgXP-J",
        "colab": {
          "base_uri": "https://localhost:8080/"
        },
        "outputId": "38c4a09a-f259-4dc7-ba16-0a86ec7751af"
      },
      "execution_count": 18,
      "outputs": [
        {
          "output_type": "stream",
          "name": "stdout",
          "text": [
            "Mean Squared Error: 0.09915948160317709\n",
            "R-squared: 0.4456923388642273\n"
          ]
        }
      ]
    },
    {
      "cell_type": "markdown",
      "source": [
        "MAKING A PREDICTION"
      ],
      "metadata": {
        "id": "1RpxrCjhQ_m4"
      }
    },
    {
      "cell_type": "code",
      "metadata": {
        "colab": {
          "base_uri": "https://localhost:8080/"
        },
        "id": "d7e7878a",
        "outputId": "fcc86050-29a7-4104-e26e-842538039751"
      },
      "source": [
        "\"\"\"Features to be inputed are:\n",
        "Egg length, Egg width,\n",
        "Yolk height, Yolk width,\n",
        "Albumin height, Yolk albumin weight,\n",
        "Shell weight, Shell thickness,\n",
        "Haugh unit, Shell surface area,\n",
        "Yolk index, Shape index) accordingly\"\"\"\n",
        "\n",
        "\n",
        "# Input data for prediction (already defined in previous cells, but redefining for clarity)\n",
        "EGG_data = (5.6, 4.1, 1.9, 4.1, 0.7, 44.6, 7.3, 0.27, 84.4, 63.9, 46.3, 73.2)\n",
        "# Changing the egg data to numpy array\n",
        "EGG_data_as_numpy_array = np.asarray(EGG_data)\n",
        "# Reshape the array for a single prediction\n",
        "EGG_data_reshaped = EGG_data_as_numpy_array.reshape(1, -1)\n",
        "\n",
        "print(\"\\nPrediction using Linear Regression:\")\n",
        "prediction_lm = lm.predict(EGG_data_reshaped) # 'lm' is the Linear Regression model\n",
        "print(prediction_lm)\n",
        "\n",
        "# For Linear Regression, the output is a continuous value.\n",
        "# A threshold was applied to interpret it as a classification.\n",
        "# For example, if the target variable is 0 or 1, a threshold of 0.5 could be used.\n",
        "threshold = 0.5\n",
        "if prediction_lm[0] < threshold:\n",
        "    print(f'Based on a threshold of {threshold}, this egg is predicted as Small by Linear Regression')\n",
        "else:\n",
        "    print(f'Based on a threshold of {threshold}, this egg is predicted as Large by Linear Regression')"
      ],
      "execution_count": 19,
      "outputs": [
        {
          "output_type": "stream",
          "name": "stdout",
          "text": [
            "\n",
            "Prediction using Linear Regression:\n",
            "[0.23454387]\n",
            "Based on a threshold of 0.5, this egg is predicted as Small by Linear Regression\n"
          ]
        },
        {
          "output_type": "stream",
          "name": "stderr",
          "text": [
            "/usr/local/lib/python3.11/dist-packages/sklearn/utils/validation.py:2739: UserWarning: X does not have valid feature names, but LinearRegression was fitted with feature names\n",
            "  warnings.warn(\n"
          ]
        }
      ]
    },
    {
      "cell_type": "markdown",
      "metadata": {
        "id": "8dfd51ab"
      },
      "source": [
        "PERFORMANCE METRICS (LINEAR REGRESSION)"
      ]
    },
    {
      "cell_type": "code",
      "metadata": {
        "colab": {
          "base_uri": "https://localhost:8080/"
        },
        "id": "5558675f",
        "outputId": "771e09a8-3ce5-41f8-ae42-14bd12ab6075"
      },
      "source": [
        "from sklearn.metrics import mean_squared_error, r2_score, classification_report, accuracy_score\n",
        "\n",
        "# Predictions on the test data\n",
        "y_pred_lm = lm.predict(X_test)\n",
        "\n",
        "# Regression Metrics\n",
        "mse_lm = mean_squared_error(Y_test, y_pred_lm)\n",
        "r2_lm = r2_score(Y_test, y_pred_lm)\n",
        "\n",
        "print(f\"Linear Regression Mean Squared Error: {mse_lm}\")\n",
        "print(f\"Linear Regression R-squared: {r2_lm}\")\n",
        "\n",
        "# Apply the threshold to the Linear Regression predictions\n",
        "threshold = 0.5\n",
        "y_pred_lm_classified = (y_pred_lm > threshold).astype(int)\n",
        "\n",
        "print(\"\\nLinear Regression Classification Report (with 0.5 threshold):\")\n",
        "print(classification_report(Y_test, y_pred_lm_classified))\n",
        "from sklearn.metrics import accuracy_score, precision_score\n",
        "\n",
        "# Calculate Accuracy and Precision\n",
        "accuracy_lm_classified = accuracy_score(Y_test, y_pred_lm_classified)\n",
        "precision_lm_classified = precision_score(Y_test, y_pred_lm_classified)\n",
        "\n",
        "print(f\"Linear Regression Accuracy (with 0.5 threshold): {accuracy_lm_classified}\")\n",
        "print(f\"Linear Regression Precision (with 0.5 threshold): {precision_lm_classified}\")"
      ],
      "execution_count": 22,
      "outputs": [
        {
          "output_type": "stream",
          "name": "stdout",
          "text": [
            "Linear Regression Mean Squared Error: 0.09915948160317709\n",
            "Linear Regression R-squared: 0.4456923388642273\n",
            "\n",
            "Linear Regression Classification Report (with 0.5 threshold):\n",
            "              precision    recall  f1-score   support\n",
            "\n",
            "           0       0.76      0.93      0.84        14\n",
            "           1       0.98      0.91      0.94        46\n",
            "\n",
            "    accuracy                           0.92        60\n",
            "   macro avg       0.87      0.92      0.89        60\n",
            "weighted avg       0.93      0.92      0.92        60\n",
            "\n",
            "Linear Regression Accuracy (with 0.5 threshold): 0.9166666666666666\n",
            "Linear Regression Precision (with 0.5 threshold): 0.9767441860465116\n"
          ]
        }
      ]
    },
    {
      "cell_type": "markdown",
      "metadata": {
        "id": "a2b579ea"
      },
      "source": [
        "SUPPORT VECTOR MACHINE (SVM) MODEL"
      ]
    },
    {
      "cell_type": "code",
      "metadata": {
        "colab": {
          "base_uri": "https://localhost:8080/"
        },
        "id": "b8675da6",
        "outputId": "24e94a0e-c561-4d82-83f0-383ef8198535"
      },
      "source": [
        "from sklearn.svm import SVC\n",
        "from sklearn.model_selection import RandomizedSearchCV\n",
        "from scipy.stats import reciprocal, uniform\n",
        "\n",
        "# Define the parameter distribution for tuning\n",
        "param_distributions = {\n",
        "    'C': reciprocal(0.1, 100),\n",
        "    'gamma': reciprocal(0.001, 1),\n",
        "    'kernel': ['linear', 'rbf', 'poly', 'sigmoid']\n",
        "}\n",
        "\n",
        "# Initialize the SVM model\n",
        "svm = SVC(random_state=42)\n",
        "\n",
        "# Initialize RandomizedSearchCV\n",
        "random_search = RandomizedSearchCV(\n",
        "    svm,\n",
        "    param_distributions,\n",
        "    n_iter=100,  # Number of parameter settings that are sampled\n",
        "    cv=5,        # Number of cross-validation folds\n",
        "    scoring='recall', # Optimize for recall of the minority class ('Small' is 0)\n",
        "    random_state=42,\n",
        "    n_jobs=-1    # Use all available cores\n",
        ")\n",
        "\n",
        "# Fit RandomizedSearchCV to the training data\n",
        "random_search.fit(X_train, Y_train)\n",
        "\n",
        "# Print the best hyperparameters found\n",
        "print(\"Best hyperparameters found by RandomizedSearchCV:\")\n",
        "print(random_search.best_params_)\n",
        "\n",
        "# Get the best model\n",
        "best_svm_model = random_search.best_estimator_"
      ],
      "execution_count": 29,
      "outputs": [
        {
          "output_type": "stream",
          "name": "stdout",
          "text": [
            "Best hyperparameters found by RandomizedSearchCV:\n",
            "{'C': np.float64(1.3292918943162166), 'gamma': np.float64(0.711447600934342), 'kernel': 'poly'}\n"
          ]
        }
      ]
    },
    {
      "cell_type": "markdown",
      "metadata": {
        "id": "b86b4698"
      },
      "source": [
        "MAKING A PREDICTIONS"
      ]
    },
    {
      "cell_type": "code",
      "metadata": {
        "colab": {
          "base_uri": "https://localhost:8080/"
        },
        "id": "ea7cf121",
        "outputId": "29f455b6-173a-4dbe-e001-f0eac494ad0d"
      },
      "source": [
        "\"\"\"Features to be inputed are:\n",
        "Egg length, Egg width,\n",
        "Yolk height, Yolk width,\n",
        "Albumin height, Yolk albumin weight,\n",
        "Shell weight, Shell thickness,\n",
        "Haugh unit, Shell surface area,\n",
        "Yolk index, Shape index) accordingly\"\"\"\n",
        "\n",
        "\n",
        "# Input data for prediction\n",
        "EGG_data = (5.6, 4.1, 1.9, 4.1, 0.7, 44.6, 7.3, 0.27, 84.4, 63.9, 46.3, 73.2)\n",
        "# Changing the egg data to numpy array\n",
        "EGG_data_as_numpy_array = np.asarray(EGG_data)\n",
        "# Reshape the array for a single prediction\n",
        "EGG_data_reshaped = EGG_data_as_numpy_array.reshape(1, -1)\n",
        "\n",
        "print(\"\\nPrediction using SVM:\")\n",
        "prediction_svm = best_svm_model.predict(EGG_data_reshaped) # Use the best_svm_model\n",
        "print(prediction_svm)\n",
        "\n",
        "if (prediction_svm[0] == 0):\n",
        "  print('This egg is predicted as Small by SVM')\n",
        "else:\n",
        "  print('This egg is predicted as Large by SVM')"
      ],
      "execution_count": 31,
      "outputs": [
        {
          "output_type": "stream",
          "name": "stdout",
          "text": [
            "\n",
            "Prediction using SVM:\n",
            "[0]\n",
            "This egg is predicted as Small by SVM\n"
          ]
        },
        {
          "output_type": "stream",
          "name": "stderr",
          "text": [
            "/usr/local/lib/python3.11/dist-packages/sklearn/utils/validation.py:2739: UserWarning: X does not have valid feature names, but SVC was fitted with feature names\n",
            "  warnings.warn(\n"
          ]
        }
      ]
    },
    {
      "cell_type": "markdown",
      "metadata": {
        "id": "22e67fbe"
      },
      "source": [
        "PERFORMANCE METRICS (SVM)"
      ]
    },
    {
      "cell_type": "code",
      "metadata": {
        "colab": {
          "base_uri": "https://localhost:8080/"
        },
        "id": "755aaece",
        "outputId": "619f5452-0046-4581-c0c3-85544959e154"
      },
      "source": [
        "from sklearn.metrics import accuracy_score, precision_score, recall_score, f1_score, classification_report\n",
        "\n",
        "# Make predictions on the test set with the best model\n",
        "y_pred_best_svm = best_svm_model.predict(X_test)\n",
        "\n",
        "# Evaluate the best SVM model using classification metrics\n",
        "print(\"Performance metrics for the best SVM model:\")\n",
        "accuracy_best_svm = accuracy_score(Y_test, y_pred_best_svm)\n",
        "precision_best_svm = precision_score(Y_test, y_pred_best_svm)\n",
        "recall_best_svm = recall_score(Y_test, y_pred_best_svm)\n",
        "f1_best_svm = f1_score(Y_test, y_pred_best_svm)\n",
        "\n",
        "print(f\"Best SVM Accuracy: {accuracy_best_svm}\")\n",
        "print(f\"Best SVM Precision: {precision_best_svm}\")\n",
        "print(f\"Best SVM Recall: {recall_best_svm}\")\n",
        "print(f\"Best SVM F1-score: {f1_best_svm}\")\n",
        "\n",
        "print(\"\\nClassification Report for the best SVM model:\")\n",
        "print(classification_report(Y_test, y_pred_best_svm))"
      ],
      "execution_count": 32,
      "outputs": [
        {
          "output_type": "stream",
          "name": "stdout",
          "text": [
            "Performance metrics for the best SVM model:\n",
            "Best SVM Accuracy: 0.95\n",
            "Best SVM Precision: 1.0\n",
            "Best SVM Recall: 0.9347826086956522\n",
            "Best SVM F1-score: 0.9662921348314607\n",
            "\n",
            "Classification Report for the best SVM model:\n",
            "              precision    recall  f1-score   support\n",
            "\n",
            "           0       0.82      1.00      0.90        14\n",
            "           1       1.00      0.93      0.97        46\n",
            "\n",
            "    accuracy                           0.95        60\n",
            "   macro avg       0.91      0.97      0.93        60\n",
            "weighted avg       0.96      0.95      0.95        60\n",
            "\n"
          ]
        }
      ]
    }
  ]
}