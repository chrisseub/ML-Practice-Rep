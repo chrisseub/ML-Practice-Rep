{
  "nbformat": 4,
  "nbformat_minor": 0,
  "metadata": {
    "colab": {
      "provenance": [],
      "authorship_tag": "ABX9TyOtlytuaW+uHGYmDnNQ+Huy",
      "include_colab_link": true
    },
    "kernelspec": {
      "name": "python3",
      "display_name": "Python 3"
    },
    "language_info": {
      "name": "python"
    }
  },
  "cells": [
    {
      "cell_type": "markdown",
      "metadata": {
        "id": "view-in-github",
        "colab_type": "text"
      },
      "source": [
        "<a href=\"https://colab.research.google.com/github/chrisseub/ML-Practice-Rep/blob/main/Untitled0.ipynb\" target=\"_parent\"><img src=\"https://colab.research.google.com/assets/colab-badge.svg\" alt=\"Open In Colab\"/></a>"
      ]
    },
    {
      "cell_type": "markdown",
      "source": [
        "IMPORTING THE LIBRARIES"
      ],
      "metadata": {
        "id": "R28qcboZ2CNq"
      }
    },
    {
      "cell_type": "code",
      "execution_count": 4,
      "metadata": {
        "id": "pIyvCC6V06tS"
      },
      "outputs": [],
      "source": [
        "import pandas as pd\n",
        "import numpy as np\n",
        "from sklearn.model_selection import train_test_split\n",
        "from sklearn.preprocessing import StandardScaler\n",
        "from sklearn import svm\n",
        "from sklearn.metrics import accuracy_score\n",
        "\n",
        "\n",
        "\n",
        "\n",
        ""
      ]
    },
    {
      "cell_type": "markdown",
      "source": [],
      "metadata": {
        "id": "PKma9pn72AQY"
      }
    },
    {
      "cell_type": "code",
      "source": [
        "Eqq_Traits = pd.read_excel('/content/main.xls')\n",
        "# Now you can work with the DataFrame 'df'\n",
        "print(Eqq_Traits.head()) # Print the first few rows"
      ],
      "metadata": {
        "colab": {
          "base_uri": "https://localhost:8080/"
        },
        "id": "bQr3thor2fyz",
        "outputId": "9fa88a54-f147-4da0-f13b-42d4dfcc9113"
      },
      "execution_count": 3,
      "outputs": [
        {
          "output_type": "stream",
          "name": "stdout",
          "text": [
            "  STRAIN          AGE  EGG_WEIGHT   EGG_LENGTH  EGG_WIDTH YOLK_HEIGHT  \\\n",
            "0  BROWN  EARLY LAYER         52.5        5.75        4.0         1.8   \n",
            "1  BROWN  EARLY LAYER         62.6        5.70        4.3           2   \n",
            "2  BROWN  EARLY LAYER         61.0        5.50        4.3         1.8   \n",
            "3  BROWN  EARLY LAYER         64.1        5.70        4.4         1.9   \n",
            "4  BROWN  EARLY LAYER         53.9        5.60        4.0         2.2   \n",
            "\n",
            "  YOLK_WIDTH ALB_HEIGHT  YOLK _ALB_WEIGHT   SHELL_WEIGTH  SHELL_THICKNESS  \\\n",
            "0        4.1        0.7               48.0           5.9             0.27   \n",
            "1        4.2        0.8               54.8           7.7             0.35   \n",
            "2          4          1               53.5           7.5             0.35   \n",
            "3          4          1               55.7           7.4             0.29   \n",
            "4          4       0.65               46.0           7.0             0.39   \n",
            "\n",
            "   Haugh Unit  Shell surface area  Yolk Index  Shape Index Outcome  \n",
            "0   84.390042           63.770823   43.902439    69.565217   Small  \n",
            "1   84.416908           71.623566   47.619048    75.438596   Large  \n",
            "2   85.517341           70.410037   45.000000    78.181818   Large  \n",
            "3   85.373317           72.751706   47.500000    77.192982   Large  \n",
            "4   84.054650           64.888161   55.000000    71.428571   Small  \n"
          ]
        }
      ]
    }
  ]
}