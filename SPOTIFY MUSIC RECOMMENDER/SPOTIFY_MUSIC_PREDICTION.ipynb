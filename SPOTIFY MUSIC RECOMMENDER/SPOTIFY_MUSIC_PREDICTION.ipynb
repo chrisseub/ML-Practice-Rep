{
  "cells": [
    {
      "cell_type": "markdown",
      "metadata": {
        "id": "view-in-github",
        "colab_type": "text"
      },
      "source": [
        "<a href=\"https://colab.research.google.com/github/chrisseub/ML-Practice-Rep/blob/main/SPOTIFY_MUSIC_PREDICTION.ipynb\" target=\"_parent\"><img src=\"https://colab.research.google.com/assets/colab-badge.svg\" alt=\"Open In Colab\"/></a>"
      ]
    },
    {
      "cell_type": "markdown",
      "metadata": {
        "id": "LIGsDJ9YEmsY"
      },
      "source": [
        "# Install Required Libraries"
      ]
    },
    {
      "cell_type": "code",
      "execution_count": null,
      "metadata": {
        "colab": {
          "background_save": true,
          "base_uri": "https://localhost:8080/"
        },
        "id": "kyrqLaOZEddj",
        "outputId": "f0eeba40-078b-47d0-d0d2-183a89236b36"
      },
      "outputs": [
        {
          "name": "stdout",
          "output_type": "stream",
          "text": [
            "Requirement already satisfied: spotipy in /usr/local/lib/python3.11/dist-packages (2.25.1)\n",
            "Requirement already satisfied: redis>=3.5.3 in /usr/local/lib/python3.11/dist-packages (from spotipy) (5.2.1)\n",
            "Requirement already satisfied: requests>=2.25.0 in /usr/local/lib/python3.11/dist-packages (from spotipy) (2.32.3)\n",
            "Requirement already satisfied: urllib3>=1.26.0 in /usr/local/lib/python3.11/dist-packages (from spotipy) (2.3.0)\n",
            "Requirement already satisfied: charset-normalizer<4,>=2 in /usr/local/lib/python3.11/dist-packages (from requests>=2.25.0->spotipy) (3.4.1)\n",
            "Requirement already satisfied: idna<4,>=2.5 in /usr/local/lib/python3.11/dist-packages (from requests>=2.25.0->spotipy) (3.10)\n",
            "Requirement already satisfied: certifi>=2017.4.17 in /usr/local/lib/python3.11/dist-packages (from requests>=2.25.0->spotipy) (2025.1.31)\n"
          ]
        },
        {
          "name": "stderr",
          "output_type": "stream",
          "text": [
            "WARNING:spotipy.oauth2:Using 'localhost' as a redirect URI is being deprecated. Use a loopback IP address such as 127.0.0.1 to ensure your app remains functional.\n"
          ]
        },
        {
          "name": "stdout",
          "output_type": "stream",
          "text": [
            "Authentication process complete.\n"
          ]
        }
      ],
      "source": [
        "!pip install spotipy\n",
        "import spotipy\n",
        "import socket\n",
        "import webbrowser\n",
        "import threading\n",
        "\n",
        "def find_available_port():\n",
        "    \"\"\"Finds an available port on the localhost.\"\"\"\n",
        "    with socket.socket(socket.AF_INET, socket.SOCK_STREAM) as sock:\n",
        "        sock.bind(('localhost', 0))  # Bind to port 0 to get an available port\n",
        "        _, port = sock.getsockname()\n",
        "    return port\n",
        "# Find an available port\n",
        "port = find_available_port()\n",
        "# Update redirect URL with the available port\n",
        "def start_auth_flow(port):\n",
        "    redirect_uri = f\"http://localhost:{port}/callback\"  # Changed redirect_url to redirect_uri\n",
        "    from spotipy.oauth2 import SpotifyOAuth # Connect to Spotify API\n",
        "\n",
        "    # Initialize SpotifyOAuth within the function\n",
        "    oauth = SpotifyOAuth(client_id=\"7a61ca63ddc54675830839b915bf3f87\",\n",
        "                        client_secret=\"e724f03e6aa74056bcc6df38ca6b43a7\",\n",
        "                        redirect_uri=f\"http://localhost:{port}/callback\",\n",
        "                        scope=\"user-top-read\")\n",
        "\n",
        "    auth_url = oauth.get_authorize_url() # This line and the following lines were incorrectly indented\n",
        "    webbrowser.open(auth_url)\n",
        "\n",
        "    # Create the Spotify client after authentication (code exchange happens in get_access_token)\n",
        "    global sp  # Make sp accessible from outside the function\n",
        "    sp = spotipy.Spotify(auth_manager=oauth)\n",
        "\n",
        "    # You might want to add a signal here to indicate when authentication is complete.\n",
        "    print(\"Authentication process complete.\")\n",
        "\n",
        "# Start the authentication flow in a separate thread\n",
        "auth_thread = threading.Thread(target=start_auth_flow, args=(port,))\n",
        "auth_thread.start()\n",
        "auth_thread.join()\n",
        "\n",
        "\n",
        "#Fetch User's Listening History\n",
        "# Get user's top tracks\n",
        "top_tracks = sp.current_user_top_tracks(limit=10)\n",
        "print(\"Your favorite songs:\")\n",
        "for i, track in enumerate(top_tracks['items']):\n",
        "  print(f\"{i + 1}. {track['name']} by {track['artists'][0]['name']}\")"
      ]
    },
    {
      "cell_type": "markdown",
      "metadata": {
        "id": "Hyz90z_fWQnj"
      },
      "source": [
        "#Fetch Song Features"
      ]
    },
    {
      "cell_type": "code",
      "execution_count": null,
      "metadata": {
        "id": "UMR7IgilGlld"
      },
      "outputs": [],
      "source": [
        "# Get song features for top tracks\n",
        "print(\"\\nSong Features:\")\n",
        "for track in top_tracks['items']:\n",
        "  features = sp.audio_features(track['id'])[0]\n",
        "  print(f\"Track: {track['name']} - Danceability: {features['danceability']}, Energy: {features['energy']}\")"
      ]
    },
    {
      "cell_type": "markdown",
      "metadata": {
        "id": "8I7XOqHSWVPv"
      },
      "source": [
        "# Find Similar Songs"
      ]
    },
    {
      "cell_type": "code",
      "execution_count": null,
      "metadata": {
        "id": "yqKlhQ5LWrSz"
      },
      "outputs": [],
      "source": [
        "# Recommend songs based on a favorite track favorite_track_id = top_tracks['items'][0]['id'] # Take the first favorite song\n",
        "favorite_features = sp.audio_features(favorite_track_id)[0] # Search for similar tracks print(\"\\nRecommended Songs:\")\n",
        "results = sp.recommendations(seed_tracks=[favorite_track_id], limit=5)\n",
        "for track in results['tracks']:\n",
        "     print(f\"{track['name']} by {track['artists'][0]['name']}\")\n"
      ]
    }
  ],
  "metadata": {
    "colab": {
      "provenance": [],
      "authorship_tag": "ABX9TyMVLcnodvqPs9A/bKaWbC6V",
      "include_colab_link": true
    },
    "kernelspec": {
      "display_name": "Python 3",
      "name": "python3"
    },
    "language_info": {
      "name": "python"
    }
  },
  "nbformat": 4,
  "nbformat_minor": 0
}